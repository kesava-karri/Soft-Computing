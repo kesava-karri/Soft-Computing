{
 "cells": [
  {
   "cell_type": "markdown",
   "id": "99d44aa1",
   "metadata": {},
   "source": [
    "## 1.  Create a model to optimize prediction of the IRIS dataset using a perceptron."
   ]
  },
  {
   "cell_type": "markdown",
   "id": "edac3fc5",
   "metadata": {},
   "source": [
    "### 1a.  Load the IRIS dataset and split the data Split the data into two with 50% for training and 50% for testing."
   ]
  },
  {
   "cell_type": "code",
   "execution_count": 186,
   "id": "7d06fc6f",
   "metadata": {},
   "outputs": [],
   "source": [
    "import numpy as np\n",
    "import pandas as pd\n",
    "import matplotlib.pyplot as plt\n",
    "from mpl_toolkits import mplot3d"
   ]
  },
  {
   "cell_type": "code",
   "execution_count": 187,
   "id": "da7bd159",
   "metadata": {},
   "outputs": [],
   "source": [
    "from sklearn import datasets\n",
    "iris=datasets.load_iris()\n",
    "\n",
    "x = iris.data\n",
    "y = iris.target\n",
    "\n",
    "from sklearn.model_selection import train_test_split\n",
    "\n",
    "x_train, x_test, y_train, y_test = train_test_split(x,y,test_size=0.5, train_size=0.5)"
   ]
  },
  {
   "cell_type": "code",
   "execution_count": 188,
   "id": "f5836dee",
   "metadata": {
    "scrolled": true
   },
   "outputs": [
    {
     "name": "stdout",
     "output_type": "stream",
     "text": [
      ".. _iris_dataset:\n",
      "\n",
      "Iris plants dataset\n",
      "--------------------\n",
      "\n",
      "**Data Set Characteristics:**\n",
      "\n",
      "    :Number of Instances: 150 (50 in each of three classes)\n",
      "    :Number of Attributes: 4 numeric, predictive attributes and the class\n",
      "    :Attribute Information:\n",
      "        - sepal length in cm\n",
      "        - sepal width in cm\n",
      "        - petal length in cm\n",
      "        - petal width in cm\n",
      "        - class:\n",
      "                - Iris-Setosa\n",
      "                - Iris-Versicolour\n",
      "                - Iris-Virginica\n",
      "                \n",
      "    :Summary Statistics:\n",
      "\n",
      "    ============== ==== ==== ======= ===== ====================\n",
      "                    Min  Max   Mean    SD   Class Correlation\n",
      "    ============== ==== ==== ======= ===== ====================\n",
      "    sepal length:   4.3  7.9   5.84   0.83    0.7826\n",
      "    sepal width:    2.0  4.4   3.05   0.43   -0.4194\n",
      "    petal length:   1.0  6.9   3.76   1.76    0.9490  (high!)\n",
      "    petal width:    0.1  2.5   1.20   0.76    0.9565  (high!)\n",
      "    ============== ==== ==== ======= ===== ====================\n",
      "\n",
      "    :Missing Attribute Values: None\n",
      "    :Class Distribution: 33.3% for each of 3 classes.\n",
      "    :Creator: R.A. Fisher\n",
      "    :Donor: Michael Marshall (MARSHALL%PLU@io.arc.nasa.gov)\n",
      "    :Date: July, 1988\n",
      "\n",
      "The famous Iris database, first used by Sir R.A. Fisher. The dataset is taken\n",
      "from Fisher's paper. Note that it's the same as in R, but not as in the UCI\n",
      "Machine Learning Repository, which has two wrong data points.\n",
      "\n",
      "This is perhaps the best known database to be found in the\n",
      "pattern recognition literature.  Fisher's paper is a classic in the field and\n",
      "is referenced frequently to this day.  (See Duda & Hart, for example.)  The\n",
      "data set contains 3 classes of 50 instances each, where each class refers to a\n",
      "type of iris plant.  One class is linearly separable from the other 2; the\n",
      "latter are NOT linearly separable from each other.\n",
      "\n",
      ".. topic:: References\n",
      "\n",
      "   - Fisher, R.A. \"The use of multiple measurements in taxonomic problems\"\n",
      "     Annual Eugenics, 7, Part II, 179-188 (1936); also in \"Contributions to\n",
      "     Mathematical Statistics\" (John Wiley, NY, 1950).\n",
      "   - Duda, R.O., & Hart, P.E. (1973) Pattern Classification and Scene Analysis.\n",
      "     (Q327.D83) John Wiley & Sons.  ISBN 0-471-22361-1.  See page 218.\n",
      "   - Dasarathy, B.V. (1980) \"Nosing Around the Neighborhood: A New System\n",
      "     Structure and Classification Rule for Recognition in Partially Exposed\n",
      "     Environments\".  IEEE Transactions on Pattern Analysis and Machine\n",
      "     Intelligence, Vol. PAMI-2, No. 1, 67-71.\n",
      "   - Gates, G.W. (1972) \"The Reduced Nearest Neighbor Rule\".  IEEE Transactions\n",
      "     on Information Theory, May 1972, 431-433.\n",
      "   - See also: 1988 MLC Proceedings, 54-64.  Cheeseman et al\"s AUTOCLASS II\n",
      "     conceptual clustering system finds 3 classes in the data.\n",
      "   - Many, many more ...\n"
     ]
    }
   ],
   "source": [
    "print(iris['DESCR']) # Looking at the description of iris dataset"
   ]
  },
  {
   "cell_type": "markdown",
   "id": "1ccace95",
   "metadata": {},
   "source": [
    "### 1b. Display the first four rows of the dataset showing the feature names.\n"
   ]
  },
  {
   "cell_type": "code",
   "execution_count": 189,
   "id": "6563f23e",
   "metadata": {},
   "outputs": [
    {
     "name": "stdout",
     "output_type": "stream",
     "text": [
      "   Sepal Length  Sepal Width  Petal Length  Petal Width\n",
      "1           5.1          3.5           1.4          0.2\n",
      "2           4.9          3.0           1.4          0.2\n",
      "3           4.7          3.2           1.3          0.2\n",
      "4           4.6          3.1           1.5          0.2 \n",
      "\n",
      "Note: All features are measured in cm\n"
     ]
    }
   ],
   "source": [
    "df = pd.DataFrame(x[0:4], index=pd.RangeIndex(start=1, stop=5), columns=[\"Sepal Length\", \"Sepal Width\", \"Petal Length\", \"Petal Width\"])\n",
    "print(df, \"\\n\\nNote: All features are measured in cm\")"
   ]
  },
  {
   "cell_type": "markdown",
   "id": "158aa7b7",
   "metadata": {},
   "source": [
    "### 1c. Create a Perceptron class and instantiate a new Perceptron. Fit the data to the model for 10 training iterations. Compute the prediction.\n"
   ]
  },
  {
   "cell_type": "code",
   "execution_count": 190,
   "id": "e89a45cc",
   "metadata": {},
   "outputs": [],
   "source": [
    "class Perceptron:\n",
    "    \n",
    "    def __init__(self, learning_rate=0.1):\n",
    "        \n",
    "        self.learning_rate = learning_rate\n",
    "        self._b = 0.0\n",
    "        self._w = None\n",
    "        self.misclassified_samples = []\n",
    "        \n",
    "    def fit(self, x: np.array, y: np.array, n_iter=10):\n",
    "        self._b = 0.0\n",
    "        self._w = np.zeros(x.shape[1])\n",
    "        self.misclassified_samples = []\n",
    "        \n",
    "        for _ in range(n_iter):\n",
    "            print('Number of epoch(s): ', _+1)\n",
    "            errors = 0\n",
    "        \n",
    "            for xi, yi in zip(x, y):\n",
    "                update = self.learning_rate * (yi - self.predict(xi))\n",
    "                self._b += update\n",
    "                self._w += update * xi\n",
    "                errors += int(update != 0.0)\n",
    "\n",
    "            self.misclassified_samples.append(errors)\n",
    "        \n",
    "    def f(self, x: np.array) -> float: \n",
    "        \n",
    "        return np.dot(x, self._w) + self._b\n",
    "    \n",
    "    def predict(self, x:np.array):\n",
    "#         One-Hot-Encoding\n",
    "#         for idx,inputs in enumerate(X):\n",
    "#             if(y[idx] == 0): \n",
    "#                 self.output = np.array([1,0,0]) #Class1 {1,0,0}\n",
    "#             elif(y[idx] == 1):\n",
    "#                 self.output = np.array([0,1,0]) #Class2 {0,1,0}\n",
    "#             elif(y[idx] == 2):\n",
    "#                 self.output = np.array([0,0,1]) #Class3 {0,0,1}\n",
    "#         I guess we can use one-hot-encoding here to implement three classes\n",
    "            return np.where(self.f(x) >= 0, 1, -1)\n",
    "    "
   ]
  },
  {
   "cell_type": "code",
   "execution_count": 191,
   "id": "d212278d",
   "metadata": {},
   "outputs": [
    {
     "name": "stdout",
     "output_type": "stream",
     "text": [
      "Number of epoch(s):  1\n",
      "Number of epoch(s):  2\n",
      "Number of epoch(s):  3\n",
      "Number of epoch(s):  4\n",
      "Number of epoch(s):  5\n",
      "Number of epoch(s):  6\n",
      "Number of epoch(s):  7\n",
      "Number of epoch(s):  8\n",
      "Number of epoch(s):  9\n",
      "Number of epoch(s):  10\n"
     ]
    }
   ],
   "source": [
    "classifier = Perceptron()\n",
    "classifier.fit(x_train, y_train, n_iter=10)\n",
    "predictions = classifier.predict(x_test)"
   ]
  },
  {
   "cell_type": "code",
   "execution_count": 192,
   "id": "56c63d7d",
   "metadata": {},
   "outputs": [
    {
     "name": "stdout",
     "output_type": "stream",
     "text": [
      "0.307\n"
     ]
    }
   ],
   "source": [
    "# Also measuring the prediction\n",
    "\n",
    "from sklearn.metrics import accuracy_score\n",
    "print(round(accuracy_score(y_test,predictions), 3))"
   ]
  },
  {
   "cell_type": "markdown",
   "id": "db6c879b",
   "metadata": {},
   "source": [
    "### 1d.  Use the first three features of the data and create a 3-D Scatter plot of the three types of flowers."
   ]
  },
  {
   "cell_type": "markdown",
   "id": "cf222402",
   "metadata": {},
   "source": [
    "#### Making three different arrays based on their target values"
   ]
  },
  {
   "cell_type": "code",
   "execution_count": 193,
   "id": "8681ee10",
   "metadata": {},
   "outputs": [],
   "source": [
    "setosa = []\n",
    "versicolour = []\n",
    "virginica = []\n",
    "\n",
    "for i,j in zip(x,y):\n",
    "    if j == 0:\n",
    "        setosa.append(i)\n",
    "    elif j == 1:\n",
    "        versicolour.append(i)\n",
    "    elif j == 2:\n",
    "        virginica.append(i)\n",
    "setosa = np.array(setosa)\n",
    "versicolour = np.array(versicolour)\n",
    "virginica = np.array(virginica)"
   ]
  },
  {
   "cell_type": "code",
   "execution_count": 194,
   "id": "13acb6c1",
   "metadata": {},
   "outputs": [
    {
     "data": {
      "image/png": "[encoded data removed]",
      "text/plain": [
       "<Figure size 432x288 with 1 Axes>"
      ]
     },
     "metadata": {
      "needs_background": "light"
     },
     "output_type": "display_data"
    }
   ],
   "source": [
    "ax = plt.axes(projection='3d')\n",
    "ax.set_title('Iris Data Set')\n",
    "ax.set_xlabel('Sepal length (cm)')\n",
    "ax.set_ylabel('Sepal width (cm)')\n",
    "ax.set_zlabel('Petal length (cm)')\n",
    "ax.scatter(setosa[:, 0], setosa[:, 1], setosa[:, 2], label='Iris Setosa', marker='o', s=4)\n",
    "ax.scatter(versicolour[:, 0], versicolour[:, 1], versicolour[:, 2], label='Iris Versicolour', marker='^', s=4)\n",
    "ax.scatter(virginica[:, 0], virginica[:, 1], virginica[:, 2], label='Iris Virginica', marker='x', s=4)\n",
    "plt.legend(loc='upper left')\n",
    "plt.show()"
   ]
  },
  {
   "cell_type": "markdown",
   "id": "ef79e80a",
   "metadata": {},
   "source": [
    "### 1e. Plot the prediction for epochs 1, 10, 100, and 200.\n"
   ]
  },
  {
   "cell_type": "markdown",
   "id": "ff855147",
   "metadata": {},
   "source": [
    "#### 1 Epoch"
   ]
  },
  {
   "cell_type": "code",
   "execution_count": 195,
   "id": "8d90eb67",
   "metadata": {},
   "outputs": [
    {
     "name": "stdout",
     "output_type": "stream",
     "text": [
      "Number of epoch(s):  1\n"
     ]
    }
   ],
   "source": [
    "classifier.fit(x_train, y_train, n_iter=1)\n",
    "predictions = classifier.predict(x_test)"
   ]
  },
  {
   "cell_type": "code",
   "execution_count": 196,
   "id": "d4dd2f67",
   "metadata": {},
   "outputs": [
    {
     "data": {
      "text/plain": [
       "array([1, 1, 1, 1, 1, 1, 1, 1, 1, 1, 1, 1, 1, 1, 1, 1, 1, 1, 1, 1, 1, 1,\n",
       "       1, 1, 1, 1, 1, 1, 1, 1, 1, 1, 1, 1, 1, 1, 1, 1, 1, 1, 1, 1, 1, 1,\n",
       "       1, 1, 1, 1, 1, 1, 1, 1, 1, 1, 1, 1, 1, 1, 1, 1, 1, 1, 1, 1, 1, 1,\n",
       "       1, 1, 1, 1, 1, 1, 1, 1, 1])"
      ]
     },
     "execution_count": 196,
     "metadata": {},
     "output_type": "execute_result"
    }
   ],
   "source": [
    "predictions"
   ]
  },
  {
   "cell_type": "code",
   "execution_count": 197,
   "id": "2637e497",
   "metadata": {},
   "outputs": [
    {
     "name": "stdout",
     "output_type": "stream",
     "text": [
      "0.307\n"
     ]
    }
   ],
   "source": [
    "print(round(accuracy_score(y_test,predictions), 3))"
   ]
  },
  {
   "cell_type": "markdown",
   "id": "016890d7",
   "metadata": {},
   "source": [
    "#### As all predictions are 1 that implies that all the test data is predicted to be Versicolour"
   ]
  },
  {
   "cell_type": "code",
   "execution_count": 198,
   "id": "7180d40c",
   "metadata": {},
   "outputs": [
    {
     "data": {
      "image/png": "[encoded data removed]",
      "text/plain": [
       "<Figure size 432x288 with 1 Axes>"
      ]
     },
     "metadata": {
      "needs_background": "light"
     },
     "output_type": "display_data"
    }
   ],
   "source": [
    "ax = plt.axes(projection='3d')\n",
    "ax.set_title('Iris Data Set')\n",
    "ax.set_xlabel('Sepal length (cm)')\n",
    "ax.set_ylabel('Sepal width (cm)')\n",
    "ax.set_zlabel('Petal length (cm)')\n",
    "for i,j in zip(x_test, predictions):\n",
    "    if j == 0:\n",
    "        ax.scatter(i[0], i[1], i[2], label='Iris Setosa', marker='o', s=4, color='blue')\n",
    "        \n",
    "    elif j == 1:\n",
    "        ax.scatter(i[0], i[1], i[2], label='Iris Versicolour', marker='^', s=4, color='orange')\n",
    "        \n",
    "    elif j == 2:\n",
    "        ax.scatter(i[0], i[1], i[2], label='Iris Virginica', marker='x', s=4, color='green')\n",
    "ax.legend(['Iris Versicolour'], loc='upper left')\n",
    "plt.show()"
   ]
  },
  {
   "cell_type": "markdown",
   "id": "e1d674ad",
   "metadata": {},
   "source": [
    "#### 10 Epochs"
   ]
  },
  {
   "cell_type": "code",
   "execution_count": 199,
   "id": "f4966014",
   "metadata": {},
   "outputs": [
    {
     "name": "stdout",
     "output_type": "stream",
     "text": [
      "Number of epoch(s):  1\n",
      "Number of epoch(s):  2\n",
      "Number of epoch(s):  3\n",
      "Number of epoch(s):  4\n",
      "Number of epoch(s):  5\n",
      "Number of epoch(s):  6\n",
      "Number of epoch(s):  7\n",
      "Number of epoch(s):  8\n",
      "Number of epoch(s):  9\n",
      "Number of epoch(s):  10\n"
     ]
    }
   ],
   "source": [
    "classifier.fit(x_train, y_train, n_iter=10)\n",
    "predictions = classifier.predict(x_test)"
   ]
  },
  {
   "cell_type": "code",
   "execution_count": 200,
   "id": "cd576eec",
   "metadata": {},
   "outputs": [
    {
     "data": {
      "text/plain": [
       "array([1, 1, 1, 1, 1, 1, 1, 1, 1, 1, 1, 1, 1, 1, 1, 1, 1, 1, 1, 1, 1, 1,\n",
       "       1, 1, 1, 1, 1, 1, 1, 1, 1, 1, 1, 1, 1, 1, 1, 1, 1, 1, 1, 1, 1, 1,\n",
       "       1, 1, 1, 1, 1, 1, 1, 1, 1, 1, 1, 1, 1, 1, 1, 1, 1, 1, 1, 1, 1, 1,\n",
       "       1, 1, 1, 1, 1, 1, 1, 1, 1])"
      ]
     },
     "execution_count": 200,
     "metadata": {},
     "output_type": "execute_result"
    }
   ],
   "source": [
    "predictions"
   ]
  },
  {
   "cell_type": "code",
   "execution_count": 201,
   "id": "52070f7e",
   "metadata": {},
   "outputs": [
    {
     "name": "stdout",
     "output_type": "stream",
     "text": [
      "0.307\n"
     ]
    }
   ],
   "source": [
    "print(round(accuracy_score(y_test,predictions), 3))"
   ]
  },
  {
   "cell_type": "markdown",
   "id": "752e6438",
   "metadata": {},
   "source": [
    "#### All predictions are still 1 that implies that all the test data is predicted to be Versicolour"
   ]
  },
  {
   "cell_type": "code",
   "execution_count": 202,
   "id": "8b2e0b4d",
   "metadata": {},
   "outputs": [
    {
     "data": {
      "image/png": "[encoded data removed]",
      "text/plain": [
       "<Figure size 432x288 with 1 Axes>"
      ]
     },
     "metadata": {
      "needs_background": "light"
     },
     "output_type": "display_data"
    }
   ],
   "source": [
    "ax = plt.axes(projection='3d')\n",
    "ax.set_title('Iris Data Set')\n",
    "ax.set_xlabel('Sepal length (cm)')\n",
    "ax.set_ylabel('Sepal width (cm)')\n",
    "ax.set_zlabel('Petal length (cm)')\n",
    "for i,j in zip(x_test, predictions):\n",
    "    if j == 0:\n",
    "        ax.scatter(i[0], i[1], i[2], label='Iris Setosa', marker='o', s=4, color='lightblue')\n",
    "    elif j == 1:\n",
    "        ax.scatter(i[0], i[1], i[2], label='Iris Versicolour', marker='^', s=4, color='orange')\n",
    "    elif j == 2:\n",
    "        ax.scatter(i[0], i[1], i[2], label='Iris Virginica', marker='x', s=4, color='green')\n",
    "ax.legend(['Iris Versicolour'], loc='upper left')\n",
    "plt.show()"
   ]
  },
  {
   "cell_type": "markdown",
   "id": "ffc48f34",
   "metadata": {},
   "source": [
    "#### 100 Epochs"
   ]
  },
  {
   "cell_type": "code",
   "execution_count": 203,
   "id": "19734537",
   "metadata": {
    "collapsed": true
   },
   "outputs": [
    {
     "name": "stdout",
     "output_type": "stream",
     "text": [
      "Number of epoch(s):  1\n",
      "Number of epoch(s):  2\n",
      "Number of epoch(s):  3\n",
      "Number of epoch(s):  4\n",
      "Number of epoch(s):  5\n",
      "Number of epoch(s):  6\n",
      "Number of epoch(s):  7\n",
      "Number of epoch(s):  8\n",
      "Number of epoch(s):  9\n",
      "Number of epoch(s):  10\n",
      "Number of epoch(s):  11\n",
      "Number of epoch(s):  12\n",
      "Number of epoch(s):  13\n",
      "Number of epoch(s):  14\n",
      "Number of epoch(s):  15\n",
      "Number of epoch(s):  16\n",
      "Number of epoch(s):  17\n",
      "Number of epoch(s):  18\n",
      "Number of epoch(s):  19\n",
      "Number of epoch(s):  20\n",
      "Number of epoch(s):  21\n",
      "Number of epoch(s):  22\n",
      "Number of epoch(s):  23\n",
      "Number of epoch(s):  24\n",
      "Number of epoch(s):  25\n",
      "Number of epoch(s):  26\n",
      "Number of epoch(s):  27\n",
      "Number of epoch(s):  28\n",
      "Number of epoch(s):  29\n",
      "Number of epoch(s):  30\n",
      "Number of epoch(s):  31\n",
      "Number of epoch(s):  32\n",
      "Number of epoch(s):  33\n",
      "Number of epoch(s):  34\n",
      "Number of epoch(s):  35\n",
      "Number of epoch(s):  36\n",
      "Number of epoch(s):  37\n",
      "Number of epoch(s):  38\n",
      "Number of epoch(s):  39\n",
      "Number of epoch(s):  40\n",
      "Number of epoch(s):  41\n",
      "Number of epoch(s):  42\n",
      "Number of epoch(s):  43\n",
      "Number of epoch(s):  44\n",
      "Number of epoch(s):  45\n",
      "Number of epoch(s):  46\n",
      "Number of epoch(s):  47\n",
      "Number of epoch(s):  48\n",
      "Number of epoch(s):  49\n",
      "Number of epoch(s):  50\n",
      "Number of epoch(s):  51\n",
      "Number of epoch(s):  52\n",
      "Number of epoch(s):  53\n",
      "Number of epoch(s):  54\n",
      "Number of epoch(s):  55\n",
      "Number of epoch(s):  56\n",
      "Number of epoch(s):  57\n",
      "Number of epoch(s):  58\n",
      "Number of epoch(s):  59\n",
      "Number of epoch(s):  60\n",
      "Number of epoch(s):  61\n",
      "Number of epoch(s):  62\n",
      "Number of epoch(s):  63\n",
      "Number of epoch(s):  64\n",
      "Number of epoch(s):  65\n",
      "Number of epoch(s):  66\n",
      "Number of epoch(s):  67\n",
      "Number of epoch(s):  68\n",
      "Number of epoch(s):  69\n",
      "Number of epoch(s):  70\n",
      "Number of epoch(s):  71\n",
      "Number of epoch(s):  72\n",
      "Number of epoch(s):  73\n",
      "Number of epoch(s):  74\n",
      "Number of epoch(s):  75\n",
      "Number of epoch(s):  76\n",
      "Number of epoch(s):  77\n",
      "Number of epoch(s):  78\n",
      "Number of epoch(s):  79\n",
      "Number of epoch(s):  80\n",
      "Number of epoch(s):  81\n",
      "Number of epoch(s):  82\n",
      "Number of epoch(s):  83\n",
      "Number of epoch(s):  84\n",
      "Number of epoch(s):  85\n",
      "Number of epoch(s):  86\n",
      "Number of epoch(s):  87\n",
      "Number of epoch(s):  88\n",
      "Number of epoch(s):  89\n",
      "Number of epoch(s):  90\n",
      "Number of epoch(s):  91\n",
      "Number of epoch(s):  92\n",
      "Number of epoch(s):  93\n",
      "Number of epoch(s):  94\n",
      "Number of epoch(s):  95\n",
      "Number of epoch(s):  96\n",
      "Number of epoch(s):  97\n",
      "Number of epoch(s):  98\n",
      "Number of epoch(s):  99\n",
      "Number of epoch(s):  100\n"
     ]
    }
   ],
   "source": [
    "classifier.fit(x_train, y_train, n_iter=100)\n",
    "predictions = classifier.predict(x_test)"
   ]
  },
  {
   "cell_type": "code",
   "execution_count": 204,
   "id": "bab5aa6d",
   "metadata": {},
   "outputs": [
    {
     "data": {
      "text/plain": [
       "array([1, 1, 1, 1, 1, 1, 1, 1, 1, 1, 1, 1, 1, 1, 1, 1, 1, 1, 1, 1, 1, 1,\n",
       "       1, 1, 1, 1, 1, 1, 1, 1, 1, 1, 1, 1, 1, 1, 1, 1, 1, 1, 1, 1, 1, 1,\n",
       "       1, 1, 1, 1, 1, 1, 1, 1, 1, 1, 1, 1, 1, 1, 1, 1, 1, 1, 1, 1, 1, 1,\n",
       "       1, 1, 1, 1, 1, 1, 1, 1, 1])"
      ]
     },
     "execution_count": 204,
     "metadata": {},
     "output_type": "execute_result"
    }
   ],
   "source": [
    "predictions"
   ]
  },
  {
   "cell_type": "code",
   "execution_count": 205,
   "id": "23e852d3",
   "metadata": {},
   "outputs": [
    {
     "name": "stdout",
     "output_type": "stream",
     "text": [
      "0.307\n"
     ]
    }
   ],
   "source": [
    "print(round(accuracy_score(y_test,predictions), 3))"
   ]
  },
  {
   "cell_type": "markdown",
   "id": "05e3102f",
   "metadata": {},
   "source": [
    "#### All predictions are still 1 which implies that all the test data is predicted to be Versicolour"
   ]
  },
  {
   "cell_type": "code",
   "execution_count": 206,
   "id": "e941f68f",
   "metadata": {},
   "outputs": [
    {
     "data": {
      "image/png": "[encoded data removed]",
      "text/plain": [
       "<Figure size 432x288 with 1 Axes>"
      ]
     },
     "metadata": {
      "needs_background": "light"
     },
     "output_type": "display_data"
    }
   ],
   "source": [
    "ax = plt.axes(projection='3d')\n",
    "ax.set_title('Iris Data Set')\n",
    "ax.set_xlabel('Sepal length (cm)')\n",
    "ax.set_ylabel('Sepal width (cm)')\n",
    "ax.set_zlabel('Petal length (cm)')\n",
    "for i,j in zip(x_test, predictions):\n",
    "    if j == 0:\n",
    "        ax.scatter(i[0], i[1], i[2], label='Iris Setosa', marker='o', s=4, color='lightblue')\n",
    "    elif j == 1:\n",
    "        ax.scatter(i[0], i[1], i[2], label='Iris Versicolour', marker='^', s=4, color='orange')\n",
    "    elif j == 2:\n",
    "        ax.scatter(i[0], i[1], i[2], label='Iris Virginica', marker='x', s=4, color='green')\n",
    "ax.legend(['Iris Versicolour'], loc='upper left')\n",
    "plt.show()"
   ]
  },
  {
   "cell_type": "markdown",
   "id": "648477ce",
   "metadata": {},
   "source": [
    "#### 200 Epochs"
   ]
  },
  {
   "cell_type": "code",
   "execution_count": 207,
   "id": "84f3a1f4",
   "metadata": {},
   "outputs": [
    {
     "name": "stdout",
     "output_type": "stream",
     "text": [
      "Number of epoch(s):  1\n",
      "Number of epoch(s):  2\n",
      "Number of epoch(s):  3\n",
      "Number of epoch(s):  4\n",
      "Number of epoch(s):  5\n",
      "Number of epoch(s):  6\n",
      "Number of epoch(s):  7\n",
      "Number of epoch(s):  8\n",
      "Number of epoch(s):  9\n",
      "Number of epoch(s):  10\n",
      "Number of epoch(s):  11\n",
      "Number of epoch(s):  12\n",
      "Number of epoch(s):  13\n",
      "Number of epoch(s):  14\n",
      "Number of epoch(s):  15\n",
      "Number of epoch(s):  16\n",
      "Number of epoch(s):  17\n",
      "Number of epoch(s):  18\n",
      "Number of epoch(s):  19\n",
      "Number of epoch(s):  20\n",
      "Number of epoch(s):  21\n",
      "Number of epoch(s):  22\n",
      "Number of epoch(s):  23\n",
      "Number of epoch(s):  24\n",
      "Number of epoch(s):  25\n",
      "Number of epoch(s):  26\n",
      "Number of epoch(s):  27\n",
      "Number of epoch(s):  28\n",
      "Number of epoch(s):  29\n",
      "Number of epoch(s):  30\n",
      "Number of epoch(s):  31\n",
      "Number of epoch(s):  32\n",
      "Number of epoch(s):  33\n",
      "Number of epoch(s):  34\n",
      "Number of epoch(s):  35\n",
      "Number of epoch(s):  36\n",
      "Number of epoch(s):  37\n",
      "Number of epoch(s):  38\n",
      "Number of epoch(s):  39\n",
      "Number of epoch(s):  40\n",
      "Number of epoch(s):  41\n",
      "Number of epoch(s):  42\n",
      "Number of epoch(s):  43\n",
      "Number of epoch(s):  44\n",
      "Number of epoch(s):  45\n",
      "Number of epoch(s):  46\n",
      "Number of epoch(s):  47\n",
      "Number of epoch(s):  48\n",
      "Number of epoch(s):  49\n",
      "Number of epoch(s):  50\n",
      "Number of epoch(s):  51\n",
      "Number of epoch(s):  52\n",
      "Number of epoch(s):  53\n",
      "Number of epoch(s):  54\n",
      "Number of epoch(s):  55\n",
      "Number of epoch(s):  56\n",
      "Number of epoch(s):  57\n",
      "Number of epoch(s):  58\n",
      "Number of epoch(s):  59\n",
      "Number of epoch(s):  60\n",
      "Number of epoch(s):  61\n",
      "Number of epoch(s):  62\n",
      "Number of epoch(s):  63\n",
      "Number of epoch(s):  64\n",
      "Number of epoch(s):  65\n",
      "Number of epoch(s):  66\n",
      "Number of epoch(s):  67\n",
      "Number of epoch(s):  68\n",
      "Number of epoch(s):  69\n",
      "Number of epoch(s):  70\n",
      "Number of epoch(s):  71\n",
      "Number of epoch(s):  72\n",
      "Number of epoch(s):  73\n",
      "Number of epoch(s):  74\n",
      "Number of epoch(s):  75\n",
      "Number of epoch(s):  76\n",
      "Number of epoch(s):  77\n",
      "Number of epoch(s):  78\n",
      "Number of epoch(s):  79\n",
      "Number of epoch(s):  80\n",
      "Number of epoch(s):  81\n",
      "Number of epoch(s):  82\n",
      "Number of epoch(s):  83\n",
      "Number of epoch(s):  84\n",
      "Number of epoch(s):  85\n",
      "Number of epoch(s):  86\n",
      "Number of epoch(s):  87\n",
      "Number of epoch(s):  88\n",
      "Number of epoch(s):  89\n",
      "Number of epoch(s):  90\n",
      "Number of epoch(s):  91\n",
      "Number of epoch(s):  92\n",
      "Number of epoch(s):  93\n",
      "Number of epoch(s):  94\n",
      "Number of epoch(s):  95\n",
      "Number of epoch(s):  96\n",
      "Number of epoch(s):  97\n",
      "Number of epoch(s):  98\n",
      "Number of epoch(s):  99\n",
      "Number of epoch(s):  100\n",
      "Number of epoch(s):  101\n",
      "Number of epoch(s):  102\n",
      "Number of epoch(s):  103\n",
      "Number of epoch(s):  104\n",
      "Number of epoch(s):  105\n",
      "Number of epoch(s):  106\n",
      "Number of epoch(s):  107\n",
      "Number of epoch(s):  108\n",
      "Number of epoch(s):  109\n",
      "Number of epoch(s):  110\n",
      "Number of epoch(s):  111\n",
      "Number of epoch(s):  112\n",
      "Number of epoch(s):  113\n",
      "Number of epoch(s):  114\n",
      "Number of epoch(s):  115\n",
      "Number of epoch(s):  116\n",
      "Number of epoch(s):  117\n",
      "Number of epoch(s):  118\n",
      "Number of epoch(s):  119\n",
      "Number of epoch(s):  120\n",
      "Number of epoch(s):  121\n",
      "Number of epoch(s):  122\n",
      "Number of epoch(s):  123\n",
      "Number of epoch(s):  124\n",
      "Number of epoch(s):  125\n",
      "Number of epoch(s):  126\n",
      "Number of epoch(s):  127\n",
      "Number of epoch(s):  128\n",
      "Number of epoch(s):  129\n",
      "Number of epoch(s):  130\n",
      "Number of epoch(s):  131\n",
      "Number of epoch(s):  132\n",
      "Number of epoch(s):  133\n",
      "Number of epoch(s):  134\n",
      "Number of epoch(s):  135\n",
      "Number of epoch(s):  136\n",
      "Number of epoch(s):  137\n",
      "Number of epoch(s):  138\n",
      "Number of epoch(s):  139\n",
      "Number of epoch(s):  140\n",
      "Number of epoch(s):  141\n",
      "Number of epoch(s):  142\n",
      "Number of epoch(s):  143\n",
      "Number of epoch(s):  144\n",
      "Number of epoch(s):  145\n",
      "Number of epoch(s):  146\n",
      "Number of epoch(s):  147\n",
      "Number of epoch(s):  148\n",
      "Number of epoch(s):  149\n",
      "Number of epoch(s):  150\n",
      "Number of epoch(s):  151\n",
      "Number of epoch(s):  152\n",
      "Number of epoch(s):  153\n",
      "Number of epoch(s):  154\n",
      "Number of epoch(s):  155\n",
      "Number of epoch(s):  156\n",
      "Number of epoch(s):  157\n",
      "Number of epoch(s):  158\n",
      "Number of epoch(s):  159\n",
      "Number of epoch(s):  160\n",
      "Number of epoch(s):  161\n",
      "Number of epoch(s):  162\n",
      "Number of epoch(s):  163\n",
      "Number of epoch(s):  164\n",
      "Number of epoch(s):  165\n",
      "Number of epoch(s):  166\n",
      "Number of epoch(s):  167\n",
      "Number of epoch(s):  168\n",
      "Number of epoch(s):  169\n",
      "Number of epoch(s):  170\n",
      "Number of epoch(s):  171\n",
      "Number of epoch(s):  172\n",
      "Number of epoch(s):  173\n",
      "Number of epoch(s):  174\n",
      "Number of epoch(s):  175\n",
      "Number of epoch(s):  176\n",
      "Number of epoch(s):  177\n",
      "Number of epoch(s):  178\n",
      "Number of epoch(s):  179\n",
      "Number of epoch(s):  180\n",
      "Number of epoch(s):  181\n",
      "Number of epoch(s):  182\n",
      "Number of epoch(s):  183\n",
      "Number of epoch(s):  184\n",
      "Number of epoch(s):  185\n",
      "Number of epoch(s):  186\n",
      "Number of epoch(s):  187\n",
      "Number of epoch(s):  188\n",
      "Number of epoch(s):  189\n",
      "Number of epoch(s):  190\n",
      "Number of epoch(s):  191\n",
      "Number of epoch(s):  192\n",
      "Number of epoch(s):  193\n",
      "Number of epoch(s):  194\n",
      "Number of epoch(s):  195\n",
      "Number of epoch(s):  196\n",
      "Number of epoch(s):  197\n",
      "Number of epoch(s):  198\n",
      "Number of epoch(s):  199\n",
      "Number of epoch(s):  200\n"
     ]
    }
   ],
   "source": [
    "classifier.fit(x_train, y_train, n_iter=200)\n",
    "predictions = classifier.predict(x_test)"
   ]
  },
  {
   "cell_type": "code",
   "execution_count": 208,
   "id": "843796dd",
   "metadata": {},
   "outputs": [
    {
     "data": {
      "text/plain": [
       "array([1, 1, 1, 1, 1, 1, 1, 1, 1, 1, 1, 1, 1, 1, 1, 1, 1, 1, 1, 1, 1, 1,\n",
       "       1, 1, 1, 1, 1, 1, 1, 1, 1, 1, 1, 1, 1, 1, 1, 1, 1, 1, 1, 1, 1, 1,\n",
       "       1, 1, 1, 1, 1, 1, 1, 1, 1, 1, 1, 1, 1, 1, 1, 1, 1, 1, 1, 1, 1, 1,\n",
       "       1, 1, 1, 1, 1, 1, 1, 1, 1])"
      ]
     },
     "execution_count": 208,
     "metadata": {},
     "output_type": "execute_result"
    }
   ],
   "source": [
    "predictions"
   ]
  },
  {
   "cell_type": "code",
   "execution_count": 209,
   "id": "7ce5ad46",
   "metadata": {},
   "outputs": [
    {
     "name": "stdout",
     "output_type": "stream",
     "text": [
      "0.307\n"
     ]
    }
   ],
   "source": [
    "print(round(accuracy_score(y_test,predictions), 3))"
   ]
  },
  {
   "cell_type": "markdown",
   "id": "b6d7077c",
   "metadata": {},
   "source": [
    "#### Even for 200 epochs all predictions are 1 which means all the test data is predicted to be Versicolour"
   ]
  },
  {
   "cell_type": "code",
   "execution_count": 210,
   "id": "ee49019d",
   "metadata": {},
   "outputs": [
    {
     "data": {
      "image/png": "[encoded data removed]",
      "text/plain": [
       "<Figure size 432x288 with 1 Axes>"
      ]
     },
     "metadata": {
      "needs_background": "light"
     },
     "output_type": "display_data"
    }
   ],
   "source": [
    "ax = plt.axes(projection='3d')\n",
    "ax.set_title('Iris Data Set')\n",
    "ax.set_xlabel('Sepal length (cm)')\n",
    "ax.set_ylabel('Sepal width (cm)')\n",
    "ax.set_zlabel('Petal length (cm)')\n",
    "for i,j in zip(x_test, predictions):\n",
    "    if j == 0:\n",
    "        ax.scatter(i[0], i[1], i[2], label='Iris Setosa', marker='o', s=4, color='lightblue')\n",
    "    elif j == 1:\n",
    "        ax.scatter(i[0], i[1], i[2], label='Iris Versicolour', marker='^', s=4, color='orange')\n",
    "    elif j == 2:\n",
    "        ax.scatter(i[0], i[1], i[2], label='Iris Virginica', marker='x', s=4, color='green')\n",
    "ax.legend(['Iris Versicolour'], loc='upper left')\n",
    "plt.show()"
   ]
  },
  {
   "cell_type": "markdown",
   "id": "c9815212",
   "metadata": {},
   "source": [
    "## 2. Using the IRIS dataset again. Build a multilayer perceptron with a depth of 2, 20% input drop rate, and 5-% hidden layer drop rate. For the non-linear activation function, use the leaky rectify function for the first dense leayer, and softmax for the second dense layer."
   ]
  },
  {
   "cell_type": "markdown",
   "id": "76c2a0f7",
   "metadata": {},
   "source": [
    "### Leaky Rectify Nonlinearity Function\n",
    "#### The Leaky Rectifier has a non-zero gradient for negative inputs which often helps convergence:\n",
    "#### ϕ(v) = v if v ≥ 0\n",
    "####  α · v otherwise.\n"
   ]
  },
  {
   "cell_type": "code",
   "execution_count": 211,
   "id": "a9864562",
   "metadata": {},
   "outputs": [],
   "source": [
    "import matplotlib.cm as cm\n",
    "import random\n",
    "\n",
    "iris_data = datasets.load_iris()\n",
    "n_samples, n_features = iris_data.data.shape\n",
    "\n",
    "def separate_data():\n",
    "    A = iris_dataset[0:40]\n",
    "    tA = iris_dataset[40:50]\n",
    "    B = iris_dataset[50:90]\n",
    "    tB = iris_dataset[90:100]\n",
    "    C = iris_dataset[100:140]\n",
    "    tC = iris_dataset[140:150]\n",
    "    train = np.concatenate((A,B,C))\n",
    "    test =  np.concatenate((tA,tB,tC))\n",
    "    return train,test\n",
    "\n",
    "train_porcent = 80 # Training percent\n",
    "test_porcent = 20 # Test percent\n",
    "iris_dataset = np.column_stack((iris_data.data,iris_data.target.T)) #Join X and Y\n",
    "iris_dataset = list(iris_dataset)\n",
    "random.shuffle(iris_dataset)\n",
    "\n",
    "Filetrain, Filetest = separate_data()\n",
    "\n",
    "train_X = np.array([i[:4] for i in Filetrain])\n",
    "train_y = np.array([i[4] for i in Filetrain])\n",
    "test_X = np.array([i[:4] for i in Filetest])\n",
    "test_y = np.array([i[4] for i in Filetest])"
   ]
  },
  {
   "cell_type": "code",
   "execution_count": 212,
   "id": "02b01dfe",
   "metadata": {},
   "outputs": [],
   "source": [
    "import tensorflow as tf"
   ]
  },
  {
   "cell_type": "code",
   "execution_count": 213,
   "id": "ee5f8798",
   "metadata": {},
   "outputs": [],
   "source": [
    "from sklearn.base import BaseEstimator, ClassifierMixin, RegressorMixin\n",
    "\n",
    "class MultiLayerPerceptron(BaseEstimator, ClassifierMixin): \n",
    "    def __init__(self, params=None):     \n",
    "        if (params == None):\n",
    "            self.inputLayer = 4                        # Input Layer\n",
    "            self.hiddenLayer = 5                       # Hidden Layer\n",
    "            self.outputLayer = 3                       # Outpuy Layer\n",
    "            self.learningRate = 0.005                  # Learning rate\n",
    "            self.max_epochs = 600                      # Epochs\n",
    "            self.BiasHiddenValue = -1                  # Bias HiddenLayer\n",
    "            self.BiasOutputValue = -1                  # Bias OutputLayer\n",
    "            self.activation = self.ativacao['sigmoid'] # Activation function\n",
    "            self.deriv = self.derivada['sigmoid']\n",
    "        else:\n",
    "            self.inputLayer = params['InputLayer']\n",
    "            self.hiddenLayer = params['HiddenLayer']\n",
    "            self.OutputLayer = params['OutputLayer']\n",
    "            self.learningRate = params['LearningRate']\n",
    "            self.max_epochs = params['Epocas']\n",
    "            self.BiasHiddenValue = params['BiasHiddenValue']\n",
    "            self.BiasOutputValue = params['BiasOutputValue']\n",
    "            self.activation = self.ativacao[params['ActivationFunction1']]\n",
    "            self.deriv = self.derivada[params['ActivationFunction2']]\n",
    "        \n",
    "        'Starting Bias and Weights'\n",
    "        self.WEIGHT_hidden = self.starting_weights(self.hiddenLayer, self.inputLayer)\n",
    "        self.WEIGHT_output = self.starting_weights(self.OutputLayer, self.hiddenLayer)\n",
    "        self.BIAS_hidden = np.array([self.BiasHiddenValue for i in range(self.hiddenLayer)])\n",
    "        self.BIAS_output = np.array([self.BiasOutputValue for i in range(self.OutputLayer)])\n",
    "        self.classes_number = 3 \n",
    "        \n",
    "    pass\n",
    "    \n",
    "    def starting_weights(self, x, y):\n",
    "        return [[2  * random.random() - 1 for i in range(x)] for j in range(y)]\n",
    "    \n",
    "    def d_softmax(x):\n",
    "        softmax = np.exp(x) / np.sum(np.exp(x))\n",
    "        SM = softmax.reshape(-1, 1)\n",
    "        return np.diagflat(softmax) - np.dot(SM, SM.T)\n",
    "    \n",
    "    ativacao = {\n",
    "         'sigmoid': (lambda x: 1/(1 + np.exp(-x))),\n",
    "            'tanh': (lambda x: np.tanh(x)),\n",
    "            'Relu': (lambda x: x*(x > 0)),\n",
    "      'leaky_relu': (lambda x: x*(x > 0.1)),\n",
    "         'softmax': (lambda x: np.exp(x) / np.sum(np.exp(x), axis=0))\n",
    "               }\n",
    "    derivada = {\n",
    "         'sigmoid': (lambda x: x*(1-x)),\n",
    "            'tanh': (lambda x: 1-x**2),\n",
    "            'Relu': (lambda x: 1*(x > 0)),\n",
    "      'leaky_relu': (lambda x: 1*(x > 0.1)),\n",
    "         'softmax': (lambda x: -x*x),\n",
    "               }\n",
    " \n",
    "    def Backpropagation_Algorithm(self, x):\n",
    "        DELTA_output = []\n",
    "        'Stage 1 - Error: OutputLayer'\n",
    "        ERROR_output = self.output - self.OUTPUT_L2\n",
    "        DELTA_output = ((-1)*(ERROR_output) * self.deriv(self.OUTPUT_L2))\n",
    "        \n",
    "        arrayStore = []\n",
    "        'Stage 2 - Update weights OutputLayer and HiddenLayer'\n",
    "        for i in range(self.hiddenLayer):\n",
    "            for j in range(self.OutputLayer):\n",
    "                self.WEIGHT_output[i][j] -= (self.learningRate * (DELTA_output[j] * self.OUTPUT_L1[i]))\n",
    "                self.BIAS_output[j] -= (self.learningRate * DELTA_output[j])\n",
    "      \n",
    "        'Stage 3 - Error: HiddenLayer'\n",
    "        delta_hidden = np.matmul(self.WEIGHT_output, DELTA_output)* self.deriv(self.OUTPUT_L1)\n",
    " \n",
    "        'Stage 4 - Update weights HiddenLayer and InputLayer(x)'\n",
    "        for i in range(self.OutputLayer):\n",
    "            for j in range(self.hiddenLayer):\n",
    "                self.WEIGHT_hidden[i][j] -= (self.learningRate * (delta_hidden[j] * x[i]))\n",
    "                self.BIAS_hidden[j] -= (self.learningRate * delta_hidden[j])\n",
    "                \n",
    "    def show_err_graphic(self,v_erro,v_epoca):\n",
    "        plt.figure(figsize=(9,4))\n",
    "        plt.plot(v_epoca, v_erro, \"m-\",color=\"b\", marker=11)\n",
    "        plt.xlabel(\"Number of Epochs\")\n",
    "        plt.ylabel(\"Squared error (MSE) \");\n",
    "        plt.title(\"Error Minimization\")\n",
    "        plt.show()\n",
    "\n",
    "    def predict(self, X, y):\n",
    "        'Returns the predictions for every element of X'\n",
    "        my_predictions = []\n",
    "        'Forward Propagation'\n",
    "        drop_out = tf.nn.dropout(X, 0.2) # Input Dropout 20%\n",
    "        forward = np.matmul(drop_out,self.WEIGHT_hidden) + self.BIAS_hidden \n",
    "        drop_out_hidden = tf.nn.dropout(forward, 0.05) # Hidden Layer Dropout 5%\n",
    "        forward = np.matmul(drop_out_hidden, self.WEIGHT_output) + self.BIAS_output\n",
    "                                 \n",
    "        for i in forward:\n",
    "            my_predictions.append(max(enumerate(i), key=lambda x:x[1])[0])\n",
    "            \n",
    "        array_score = []\n",
    "        for i in range(len(my_predictions)):\n",
    "            if my_predictions[i] == 0: \n",
    "                array_score.append([i, 'Iris-setosa', my_predictions[i], y[i]])\n",
    "            elif my_predictions[i] == 1:\n",
    "                 array_score.append([i, 'Iris-versicolour', my_predictions[i], y[i]])\n",
    "            elif my_predictions[i] == 2:\n",
    "                 array_score.append([i, 'Iris-virginica', my_predictions[i], y[i]])\n",
    "                    \n",
    "        dataframe = pd.DataFrame(array_score, columns=['_id', 'class', 'output', 'hoped_output'])\n",
    "        return my_predictions, dataframe\n",
    "\n",
    "    def fit(self, X, y):  \n",
    "        count_epoch = 1\n",
    "        total_error = 0\n",
    "        n = len(X); \n",
    "        epoch_array = []\n",
    "        error_array = []\n",
    "        W0 = []\n",
    "        W1 = []\n",
    "        while(count_epoch <= self.max_epochs):\n",
    "            for idx,inputs in enumerate(X):\n",
    "                self.output = np.zeros(self.classes_number)\n",
    "                'Stage 1 - (Forward Propagation)'\n",
    "                \n",
    "                self.OUTPUT_L1 = self.activation((np.dot(inputs, self.WEIGHT_hidden) + self.BIAS_hidden.T))\n",
    "                \n",
    "                self.OUTPUT_L2 = self.activation((np.dot(self.OUTPUT_L1, self.WEIGHT_output) + self.BIAS_output.T))\n",
    "                'Stage 2 - One-Hot-Encoding'\n",
    "                if(y[idx] == 0): \n",
    "                    self.output = np.array([1,0,0]) #Class1 {1,0,0}\n",
    "                elif(y[idx] == 1):\n",
    "                    self.output = np.array([0,1,0]) #Class2 {0,1,0}\n",
    "                elif(y[idx] == 2):\n",
    "                    self.output = np.array([0,0,1]) #Class3 {0,0,1}\n",
    "                \n",
    "                square_error = 0\n",
    "                for i in range(self.OutputLayer):\n",
    "                    erro = (self.output[i] - self.OUTPUT_L2[i])**2\n",
    "                    square_error = (square_error + (0.05 * erro))\n",
    "                    total_error = total_error + square_error\n",
    "         \n",
    "                'Backpropagation : Update Weights'\n",
    "                self.Backpropagation_Algorithm(inputs)\n",
    "                \n",
    "            total_error = (total_error / n)\n",
    "            if((count_epoch % 1 == 0)or(count_epoch == 1)):\n",
    "                print(\"Epoch \", count_epoch, \"- Total Error: \",total_error)\n",
    "                error_array.append(total_error)\n",
    "                epoch_array.append(count_epoch)\n",
    "                \n",
    "            W0.append(self.WEIGHT_hidden)\n",
    "            W1.append(self.WEIGHT_output)\n",
    "             \n",
    "                \n",
    "            count_epoch += 1\n",
    "        self.show_err_graphic(error_array,epoch_array)\n",
    "        \n",
    "        plt.plot(W0[0])\n",
    "        plt.title('Weight Hidden update during training')\n",
    "        plt.legend(['neuron1', 'neuron2', 'neuron3', 'neuron4', 'neuron5'])\n",
    "        plt.ylabel('Value Weight')\n",
    "        plt.show()\n",
    "        \n",
    "        plt.plot(W1[0])\n",
    "        plt.title('Weight Output update during training')\n",
    "        plt.legend(['neuron1', 'neuron2', 'neuron3'])\n",
    "        plt.ylabel('Value Weight')\n",
    "        plt.show()\n",
    "\n",
    "        return self"
   ]
  },
  {
   "cell_type": "markdown",
   "id": "72026efc",
   "metadata": {},
   "source": [
    "### 2a. Plot the performance for the first 10 epochs.\n"
   ]
  },
  {
   "cell_type": "code",
   "execution_count": 214,
   "id": "477491bc",
   "metadata": {
    "collapsed": true
   },
   "outputs": [
    {
     "name": "stdout",
     "output_type": "stream",
     "text": [
      "Epoch  1 - Total Error:  0.10574769568042432\n",
      "Epoch  2 - Total Error:  0.10129789746400387\n",
      "Epoch  3 - Total Error:  0.10126081581220037\n",
      "Epoch  4 - Total Error:  0.10126050679843533\n",
      "Epoch  5 - Total Error:  0.10126050422332061\n",
      "Epoch  6 - Total Error:  0.10126050420186133\n",
      "Epoch  7 - Total Error:  0.1012605042016825\n",
      "Epoch  8 - Total Error:  0.10126050420168102\n",
      "Epoch  9 - Total Error:  0.101260504201681\n",
      "Epoch  10 - Total Error:  0.101260504201681\n"
     ]
    },
    {
     "name": "stderr",
     "output_type": "stream",
     "text": [
      "C:\\Users\\kkesh\\AppData\\Local\\Temp/ipykernel_6388/628809832.py:82: UserWarning: color is redundantly defined by the 'color' keyword argument and the fmt string \"m-\" (-> color='m'). The keyword argument will take precedence.\n",
      "  plt.plot(v_epoca, v_erro, \"m-\",color=\"b\", marker=11)\n"
     ]
    },
    {
     "data": {
      "image/png": "[encoded data removed]",
      "text/plain": [
       "<Figure size 648x288 with 1 Axes>"
      ]
     },
     "metadata": {
      "needs_background": "light"
     },
     "output_type": "display_data"
    },
    {
     "data": {
      "image/png": "[encoded data removed]",
      "text/plain": [
       "<Figure size 432x288 with 1 Axes>"
      ]
     },
     "metadata": {
      "needs_background": "light"
     },
     "output_type": "display_data"
    },
    {
     "data": {
      "image/png": "[encoded data removed]",
      "text/plain": [
       "<Figure size 432x288 with 1 Axes>"
      ]
     },
     "metadata": {
      "needs_background": "light"
     },
     "output_type": "display_data"
    }
   ],
   "source": [
    "dictionary = {'InputLayer':4, 'HiddenLayer':5, 'OutputLayer':3,\n",
    "              'Epocas':10, 'LearningRate':0.005,'BiasHiddenValue':-1, \n",
    "              'BiasOutputValue':-1, 'ActivationFunction1':'leaky_relu', 'ActivationFunction2':'softmax'}\n",
    "\n",
    "Perceptron = MultiLayerPerceptron(dictionary)\n",
    "\n",
    "try:\n",
    "    Perceptron.fit(train_X,train_y)\n",
    "except AttributeError:\n",
    "    print('')"
   ]
  },
  {
   "cell_type": "markdown",
   "id": "ea91c742",
   "metadata": {},
   "source": [
    "### 2b. Use a different activation function. What is the result?\n",
    "\n"
   ]
  },
  {
   "cell_type": "code",
   "execution_count": 27,
   "id": "e0e8dc3e",
   "metadata": {
    "collapsed": true
   },
   "outputs": [
    {
     "name": "stdout",
     "output_type": "stream",
     "text": [
      "Epoch  1 - Total Error:  0.10570956247598037\n",
      "Epoch  2 - Total Error:  0.1013467273771987\n",
      "Epoch  3 - Total Error:  0.09495832959142413\n",
      "Epoch  4 - Total Error:  0.08761551202287211\n",
      "Epoch  5 - Total Error:  0.08149869752003228\n",
      "Epoch  6 - Total Error:  0.07749923254755556\n",
      "Epoch  7 - Total Error:  0.0748887668101042\n",
      "Epoch  8 - Total Error:  0.07305718829546085\n",
      "Epoch  9 - Total Error:  0.07170135616559811\n",
      "Epoch  10 - Total Error:  0.07066429871215911\n"
     ]
    },
    {
     "name": "stderr",
     "output_type": "stream",
     "text": [
      "C:\\Users\\kkesh\\AppData\\Local\\Temp/ipykernel_6388/190176387.py:82: UserWarning: color is redundantly defined by the 'color' keyword argument and the fmt string \"m-\" (-> color='m'). The keyword argument will take precedence.\n",
      "  plt.plot(v_epoca, v_erro, \"m-\",color=\"b\", marker=11)\n"
     ]
    },
    {
     "data": {
      "image/png": "[encoded data removed]",
      "text/plain": [
       "<Figure size 648x288 with 1 Axes>"
      ]
     },
     "metadata": {
      "needs_background": "light"
     },
     "output_type": "display_data"
    },
    {
     "data": {
      "image/png": "[encoded data removed]",
      "text/plain": [
       "<Figure size 432x288 with 1 Axes>"
      ]
     },
     "metadata": {
      "needs_background": "light"
     },
     "output_type": "display_data"
    },
    {
     "data": {
      "image/png": "[encoded data removed]",
      "text/plain": [
       "<Figure size 432x288 with 1 Axes>"
      ]
     },
     "metadata": {
      "needs_background": "light"
     },
     "output_type": "display_data"
    }
   ],
   "source": [
    "dictionary = {'InputLayer':4, 'HiddenLayer':5, 'OutputLayer':3,\n",
    "              'Epocas':10, 'LearningRate':0.005,'BiasHiddenValue':-1, \n",
    "              'BiasOutputValue':-1, 'ActivationFunction1':'sigmoid', 'ActivationFunction2': 'sigmoid'}\n",
    "\n",
    "Perceptron = MultiLayerPerceptron(dictionary)\n",
    "\n",
    "try:\n",
    "    Perceptron.fit(train_X,train_y)\n",
    "except AttributeError:\n",
    "    print('')"
   ]
  },
  {
   "cell_type": "markdown",
   "id": "4d5d7d1a",
   "metadata": {},
   "source": [
    "#### Keeping the other parameters constant and changing the activation functions before input & hidden layer there was decrease in the error which was already low before"
   ]
  },
  {
   "cell_type": "markdown",
   "id": "6a7cd3e3",
   "metadata": {},
   "source": [
    "### 2c. Add more layers to the multilayer perceptron. Use 4 layers instead of 2. What is the result?\n"
   ]
  },
  {
   "cell_type": "code",
   "execution_count": 28,
   "id": "9d0223f7",
   "metadata": {},
   "outputs": [],
   "source": [
    "from sklearn.base import BaseEstimator, ClassifierMixin, RegressorMixin\n",
    "\n",
    "class MultiLayerPerceptron(BaseEstimator, ClassifierMixin): \n",
    "    def __init__(self, params=None):     \n",
    "        if (params == None):\n",
    "            self.inputLayer = 4                        # Input Layer\n",
    "            self.hiddenLayer = 5                       # Hidden Layer\n",
    "            self.outputLayer = 3                       # Outpuy Layer\n",
    "            self.learningRate = 0.005                  # Learning rate\n",
    "            self.max_epochs = 600                      # Epochs\n",
    "            self.BiasHiddenValue = -1                  # Bias HiddenLayer\n",
    "            self.BiasOutputValue = -1                  # Bias OutputLayer\n",
    "            self.activation = self.ativacao['sigmoid'] # Activation function\n",
    "            self.deriv = self.derivada['sigmoid']\n",
    "        else:\n",
    "            self.inputLayer = params['InputLayer']\n",
    "            self.hiddenLayer = params['HiddenLayer']\n",
    "            self.OutputLayer = params['OutputLayer']\n",
    "            self.learningRate = params['LearningRate']\n",
    "            self.max_epochs = params['Epocas']\n",
    "            self.BiasHiddenValue = params['BiasHiddenValue']\n",
    "            self.BiasOutputValue = params['BiasOutputValue']\n",
    "            self.activation = self.ativacao[params['ActivationFunction1']]\n",
    "            self.deriv = self.derivada[params['ActivationFunction2']]\n",
    "        \n",
    "        'Starting Bias and Weights'\n",
    "        self.WEIGHT_hidden = self.starting_weights(self.hiddenLayer, self.inputLayer)\n",
    "        self.WEIGHT_output = self.starting_weights(self.OutputLayer, self.hiddenLayer)\n",
    "        self.BIAS_hidden = np.array([self.BiasHiddenValue for i in range(self.hiddenLayer)])\n",
    "        self.BIAS_output = np.array([self.BiasOutputValue for i in range(self.OutputLayer)])\n",
    "        self.classes_number = 3 \n",
    "        \n",
    "    pass\n",
    "    \n",
    "    def starting_weights(self, x, y):\n",
    "        return [[2  * random.random() - 1 for i in range(x)] for j in range(y)]\n",
    "    \n",
    "    def d_softmax(x):\n",
    "        softmax = np.exp(x) / np.sum(np.exp(x))\n",
    "        SM = softmax.reshape(-1, 1)\n",
    "        return np.diagflat(softmax) - np.dot(SM, SM.T)\n",
    "    \n",
    "    ativacao = {\n",
    "         'sigmoid': (lambda x: 1/(1 + np.exp(-x))),\n",
    "            'tanh': (lambda x: np.tanh(x)),\n",
    "            'Relu': (lambda x: x*(x > 0)),\n",
    "      'leaky_relu': (lambda x: x*(x > 0.1)),\n",
    "         'softmax': (lambda x: np.exp(x) / np.sum(np.exp(x), axis=0))\n",
    "               }\n",
    "    derivada = {\n",
    "         'sigmoid': (lambda x: x*(1-x)),\n",
    "            'tanh': (lambda x: 1-x**2),\n",
    "            'Relu': (lambda x: 1*(x > 0)),\n",
    "      'leaky_relu': (lambda x: 1*(x > 0.1)),\n",
    "         'softmax': (lambda x: -x*x),\n",
    "               }\n",
    " \n",
    "    def Backpropagation_Algorithm(self, x):\n",
    "        DELTA_output = []\n",
    "        'Stage 1 - Error: OutputLayer'\n",
    "        ERROR_output = self.output - self.OUTPUT_L2\n",
    "        DELTA_output = ((-1)*(ERROR_output) * self.deriv(self.OUTPUT_L2))\n",
    "        \n",
    "        arrayStore = []\n",
    "        'Stage 2 - Update weights OutputLayer and HiddenLayer'\n",
    "        for i in range(self.hiddenLayer):\n",
    "            for j in range(self.OutputLayer):\n",
    "                self.WEIGHT_output[i][j] -= (self.learningRate * (DELTA_output[j] * self.OUTPUT_L1[i]))\n",
    "                self.BIAS_output[j] -= (self.learningRate * DELTA_output[j])\n",
    "      \n",
    "        'Stage 3 - Error: HiddenLayer'\n",
    "        delta_hidden = np.matmul(self.WEIGHT_output, DELTA_output)* self.deriv(self.OUTPUT_L1)\n",
    " \n",
    "        'Stage 4 - Update weights HiddenLayer and InputLayer(x)'\n",
    "        for i in range(self.OutputLayer):\n",
    "            for j in range(self.hiddenLayer):\n",
    "                self.WEIGHT_hidden[i][j] -= (self.learningRate * (delta_hidden[j] * x[i]))\n",
    "                self.BIAS_hidden[j] -= (self.learningRate * delta_hidden[j])\n",
    "                \n",
    "    def show_err_graphic(self,v_erro,v_epoca):\n",
    "        plt.figure(figsize=(9,4))\n",
    "        plt.plot(v_epoca, v_erro, \"m-\",color=\"b\", marker=11)\n",
    "        plt.xlabel(\"Number of Epochs\")\n",
    "        plt.ylabel(\"Squared error (MSE) \");\n",
    "        plt.title(\"Error Minimization\")\n",
    "        plt.show()\n",
    "\n",
    "    def predict(self, X, y):\n",
    "        'Returns the predictions for every element of X'\n",
    "        my_predictions = []\n",
    "        'Forward Propagation'\n",
    "        # Input dropout\n",
    "        drop_out = tf.nn.dropout(X, 0.2) \n",
    "        # Input Layer\n",
    "        forward = np.matmul(drop_out,self.WEIGHT_hidden) + self.BIAS_hidden \n",
    "        # Hidden Layer Dropout\n",
    "        drop_out_hidden = tf.nn.dropout(forward, 0.05) \n",
    "        # Hidden Layers\n",
    "        forward = np.matmul(drop_out_hidden, self.WEIGHT_output) + self.BIAS_output\n",
    "        forward = np.matmul(forward, self.WEIGHT_output) + self.BIAS_output\n",
    "        forward = np.matmul(forward, self.WEIGHT_output) + self.BIAS_output\n",
    "        \n",
    "                                 \n",
    "        for i in forward:\n",
    "            my_predictions.append(max(enumerate(i), key=lambda x:x[1])[0])\n",
    "            \n",
    "        array_score = []\n",
    "        for i in range(len(my_predictions)):\n",
    "            if my_predictions[i] == 0: \n",
    "                array_score.append([i, 'Iris-setosa', my_predictions[i], y[i]])\n",
    "            elif my_predictions[i] == 1:\n",
    "                 array_score.append([i, 'Iris-versicolour', my_predictions[i], y[i]])\n",
    "            elif my_predictions[i] == 2:\n",
    "                 array_score.append([i, 'Iris-virginica', my_predictions[i], y[i]])\n",
    "                    \n",
    "        dataframe = pd.DataFrame(array_score, columns=['_id', 'class', 'output', 'hoped_output'])\n",
    "        return my_predictions, dataframe\n",
    "\n",
    "    def fit(self, X, y):  \n",
    "        count_epoch = 1\n",
    "        total_error = 0\n",
    "        n = len(X); \n",
    "        epoch_array = []\n",
    "        error_array = []\n",
    "        W0 = []\n",
    "        W1 = []\n",
    "        while(count_epoch <= self.max_epochs):\n",
    "            for idx,inputs in enumerate(X):\n",
    "                self.output = np.zeros(self.classes_number)\n",
    "                'Stage 1 - (Forward Propagation)'\n",
    "                \n",
    "                self.OUTPUT_L1 = self.activation((np.dot(inputs, self.WEIGHT_hidden) + self.BIAS_hidden.T))\n",
    "                \n",
    "                self.OUTPUT_L2 = self.activation((np.dot(self.OUTPUT_L1, self.WEIGHT_output) + self.BIAS_output.T))\n",
    "                'Stage 2 - One-Hot-Encoding'\n",
    "                if(y[idx] == 0): \n",
    "                    self.output = np.array([1,0,0]) #Class1 {1,0,0}\n",
    "                elif(y[idx] == 1):\n",
    "                    self.output = np.array([0,1,0]) #Class2 {0,1,0}\n",
    "                elif(y[idx] == 2):\n",
    "                    self.output = np.array([0,0,1]) #Class3 {0,0,1}\n",
    "                \n",
    "                square_error = 0\n",
    "                for i in range(self.OutputLayer):\n",
    "                    erro = (self.output[i] - self.OUTPUT_L2[i])**2\n",
    "                    square_error = (square_error + (0.05 * erro))\n",
    "                    total_error = total_error + square_error\n",
    "         \n",
    "                'Backpropagation : Update Weights'\n",
    "                self.Backpropagation_Algorithm(inputs)\n",
    "                \n",
    "            total_error = (total_error / n)\n",
    "            if((count_epoch % 1 == 0)or(count_epoch == 1)):\n",
    "                print(\"Epoch \", count_epoch, \"- Total Error: \",total_error)\n",
    "                error_array.append(total_error)\n",
    "                epoch_array.append(count_epoch)\n",
    "                \n",
    "            W0.append(self.WEIGHT_hidden)\n",
    "            W1.append(self.WEIGHT_output)\n",
    "             \n",
    "                \n",
    "            count_epoch += 1\n",
    "        self.show_err_graphic(error_array,epoch_array)\n",
    "        \n",
    "        plt.plot(W0[0])\n",
    "        plt.title('Weight Hidden update during training')\n",
    "        plt.legend(['neuron1', 'neuron2', 'neuron3', 'neuron4', 'neuron5'])\n",
    "        plt.ylabel('Value Weight')\n",
    "        plt.show()\n",
    "        \n",
    "        plt.plot(W1[0])\n",
    "        plt.title('Weight Output update during training')\n",
    "        plt.legend(['neuron1', 'neuron2', 'neuron3'])\n",
    "        plt.ylabel('Value Weight')\n",
    "        plt.show()\n",
    "\n",
    "        return self"
   ]
  },
  {
   "cell_type": "code",
   "execution_count": 29,
   "id": "fab643ad",
   "metadata": {},
   "outputs": [
    {
     "name": "stdout",
     "output_type": "stream",
     "text": [
      "Epoch  1 - Total Error:  0.0813212527669836\n",
      "Epoch  2 - Total Error:  0.08020926364377143\n",
      "Epoch  3 - Total Error:  0.07792165176215948\n",
      "Epoch  4 - Total Error:  0.07590771904542076\n",
      "Epoch  5 - Total Error:  0.0741502880777205\n",
      "Epoch  6 - Total Error:  0.07261191012579095\n",
      "Epoch  7 - Total Error:  0.07125288819935136\n",
      "Epoch  8 - Total Error:  0.07003612051404638\n",
      "Epoch  9 - Total Error:  0.0689297424072887\n",
      "Epoch  10 - Total Error:  0.06790799081328738\n"
     ]
    },
    {
     "name": "stderr",
     "output_type": "stream",
     "text": [
      "C:\\Users\\kkesh\\AppData\\Local\\Temp/ipykernel_6388/2409158292.py:82: UserWarning: color is redundantly defined by the 'color' keyword argument and the fmt string \"m-\" (-> color='m'). The keyword argument will take precedence.\n",
      "  plt.plot(v_epoca, v_erro, \"m-\",color=\"b\", marker=11)\n"
     ]
    },
    {
     "data": {
      "image/png": "[encoded data removed]",
      "text/plain": [
       "<Figure size 648x288 with 1 Axes>"
      ]
     },
     "metadata": {
      "needs_background": "light"
     },
     "output_type": "display_data"
    },
    {
     "data": {
      "image/png": "[encoded data removed]",
      "text/plain": [
       "<Figure size 432x288 with 1 Axes>"
      ]
     },
     "metadata": {
      "needs_background": "light"
     },
     "output_type": "display_data"
    },
    {
     "data": {
      "image/png": "[encoded data removed]",
      "text/plain": [
       "<Figure size 432x288 with 1 Axes>"
      ]
     },
     "metadata": {
      "needs_background": "light"
     },
     "output_type": "display_data"
    }
   ],
   "source": [
    "dictionary = {'InputLayer':4, 'HiddenLayer':5, 'OutputLayer':3,\n",
    "              'Epocas':10, 'LearningRate':0.005,'BiasHiddenValue':-1, \n",
    "              'BiasOutputValue':-1, 'ActivationFunction1':'sigmoid', 'ActivationFunction2': 'sigmoid'}\n",
    "\n",
    "Perceptron = MultiLayerPerceptron(dictionary)\n",
    "\n",
    "try:\n",
    "    Perceptron.fit(train_X,train_y)\n",
    "except AttributeError:\n",
    "    print('')"
   ]
  },
  {
   "cell_type": "markdown",
   "id": "0deb23c9",
   "metadata": {},
   "source": [
    "#### Adding more hidden layers in general should improve the accuracy but in this case it was the other way round or unnoticeable change"
   ]
  },
  {
   "cell_type": "markdown",
   "id": "f965cd78",
   "metadata": {},
   "source": [
    "## 3. Load the Store Data file provided on Pilot and create a data frame of the list of items in the file\n"
   ]
  },
  {
   "cell_type": "code",
   "execution_count": 30,
   "id": "049e8c8c",
   "metadata": {},
   "outputs": [
    {
     "data": {
      "text/html": [
       "<div>\n",
       "<style scoped>\n",
       "    .dataframe tbody tr th:only-of-type {\n",
       "        vertical-align: middle;\n",
       "    }\n",
       "\n",
       "    .dataframe tbody tr th {\n",
       "        vertical-align: top;\n",
       "    }\n",
       "\n",
       "    .dataframe thead th {\n",
       "        text-align: right;\n",
       "    }\n",
       "</style>\n",
       "<table border=\"1\" class=\"dataframe\">\n",
       "  <thead>\n",
       "    <tr style=\"text-align: right;\">\n",
       "      <th></th>\n",
       "      <th>shrimp</th>\n",
       "      <th>almonds</th>\n",
       "      <th>avocado</th>\n",
       "      <th>vegetables mix</th>\n",
       "      <th>green grapes</th>\n",
       "      <th>whole weat flour</th>\n",
       "      <th>yams</th>\n",
       "      <th>cottage cheese</th>\n",
       "      <th>energy drink</th>\n",
       "      <th>tomato juice</th>\n",
       "      <th>low fat yogurt</th>\n",
       "      <th>green tea</th>\n",
       "      <th>honey</th>\n",
       "      <th>salad</th>\n",
       "      <th>mineral water</th>\n",
       "      <th>salmon</th>\n",
       "      <th>antioxydant juice</th>\n",
       "      <th>frozen smoothie</th>\n",
       "      <th>spinach</th>\n",
       "      <th>olive oil</th>\n",
       "    </tr>\n",
       "  </thead>\n",
       "  <tbody>\n",
       "    <tr>\n",
       "      <th>0</th>\n",
       "      <td>burgers</td>\n",
       "      <td>meatballs</td>\n",
       "      <td>eggs</td>\n",
       "      <td>NaN</td>\n",
       "      <td>NaN</td>\n",
       "      <td>NaN</td>\n",
       "      <td>NaN</td>\n",
       "      <td>NaN</td>\n",
       "      <td>NaN</td>\n",
       "      <td>NaN</td>\n",
       "      <td>NaN</td>\n",
       "      <td>NaN</td>\n",
       "      <td>NaN</td>\n",
       "      <td>NaN</td>\n",
       "      <td>NaN</td>\n",
       "      <td>NaN</td>\n",
       "      <td>NaN</td>\n",
       "      <td>NaN</td>\n",
       "      <td>NaN</td>\n",
       "      <td>NaN</td>\n",
       "    </tr>\n",
       "    <tr>\n",
       "      <th>1</th>\n",
       "      <td>chutney</td>\n",
       "      <td>NaN</td>\n",
       "      <td>NaN</td>\n",
       "      <td>NaN</td>\n",
       "      <td>NaN</td>\n",
       "      <td>NaN</td>\n",
       "      <td>NaN</td>\n",
       "      <td>NaN</td>\n",
       "      <td>NaN</td>\n",
       "      <td>NaN</td>\n",
       "      <td>NaN</td>\n",
       "      <td>NaN</td>\n",
       "      <td>NaN</td>\n",
       "      <td>NaN</td>\n",
       "      <td>NaN</td>\n",
       "      <td>NaN</td>\n",
       "      <td>NaN</td>\n",
       "      <td>NaN</td>\n",
       "      <td>NaN</td>\n",
       "      <td>NaN</td>\n",
       "    </tr>\n",
       "    <tr>\n",
       "      <th>2</th>\n",
       "      <td>turkey</td>\n",
       "      <td>avocado</td>\n",
       "      <td>NaN</td>\n",
       "      <td>NaN</td>\n",
       "      <td>NaN</td>\n",
       "      <td>NaN</td>\n",
       "      <td>NaN</td>\n",
       "      <td>NaN</td>\n",
       "      <td>NaN</td>\n",
       "      <td>NaN</td>\n",
       "      <td>NaN</td>\n",
       "      <td>NaN</td>\n",
       "      <td>NaN</td>\n",
       "      <td>NaN</td>\n",
       "      <td>NaN</td>\n",
       "      <td>NaN</td>\n",
       "      <td>NaN</td>\n",
       "      <td>NaN</td>\n",
       "      <td>NaN</td>\n",
       "      <td>NaN</td>\n",
       "    </tr>\n",
       "    <tr>\n",
       "      <th>3</th>\n",
       "      <td>mineral water</td>\n",
       "      <td>milk</td>\n",
       "      <td>energy bar</td>\n",
       "      <td>whole wheat rice</td>\n",
       "      <td>green tea</td>\n",
       "      <td>NaN</td>\n",
       "      <td>NaN</td>\n",
       "      <td>NaN</td>\n",
       "      <td>NaN</td>\n",
       "      <td>NaN</td>\n",
       "      <td>NaN</td>\n",
       "      <td>NaN</td>\n",
       "      <td>NaN</td>\n",
       "      <td>NaN</td>\n",
       "      <td>NaN</td>\n",
       "      <td>NaN</td>\n",
       "      <td>NaN</td>\n",
       "      <td>NaN</td>\n",
       "      <td>NaN</td>\n",
       "      <td>NaN</td>\n",
       "    </tr>\n",
       "    <tr>\n",
       "      <th>4</th>\n",
       "      <td>low fat yogurt</td>\n",
       "      <td>NaN</td>\n",
       "      <td>NaN</td>\n",
       "      <td>NaN</td>\n",
       "      <td>NaN</td>\n",
       "      <td>NaN</td>\n",
       "      <td>NaN</td>\n",
       "      <td>NaN</td>\n",
       "      <td>NaN</td>\n",
       "      <td>NaN</td>\n",
       "      <td>NaN</td>\n",
       "      <td>NaN</td>\n",
       "      <td>NaN</td>\n",
       "      <td>NaN</td>\n",
       "      <td>NaN</td>\n",
       "      <td>NaN</td>\n",
       "      <td>NaN</td>\n",
       "      <td>NaN</td>\n",
       "      <td>NaN</td>\n",
       "      <td>NaN</td>\n",
       "    </tr>\n",
       "  </tbody>\n",
       "</table>\n",
       "</div>"
      ],
      "text/plain": [
       "           shrimp    almonds     avocado    vegetables mix green grapes  \\\n",
       "0         burgers  meatballs        eggs               NaN          NaN   \n",
       "1         chutney        NaN         NaN               NaN          NaN   \n",
       "2          turkey    avocado         NaN               NaN          NaN   \n",
       "3   mineral water       milk  energy bar  whole wheat rice    green tea   \n",
       "4  low fat yogurt        NaN         NaN               NaN          NaN   \n",
       "\n",
       "  whole weat flour yams cottage cheese energy drink tomato juice  \\\n",
       "0              NaN  NaN            NaN          NaN          NaN   \n",
       "1              NaN  NaN            NaN          NaN          NaN   \n",
       "2              NaN  NaN            NaN          NaN          NaN   \n",
       "3              NaN  NaN            NaN          NaN          NaN   \n",
       "4              NaN  NaN            NaN          NaN          NaN   \n",
       "\n",
       "  low fat yogurt green tea honey salad mineral water salmon antioxydant juice  \\\n",
       "0            NaN       NaN   NaN   NaN           NaN    NaN               NaN   \n",
       "1            NaN       NaN   NaN   NaN           NaN    NaN               NaN   \n",
       "2            NaN       NaN   NaN   NaN           NaN    NaN               NaN   \n",
       "3            NaN       NaN   NaN   NaN           NaN    NaN               NaN   \n",
       "4            NaN       NaN   NaN   NaN           NaN    NaN               NaN   \n",
       "\n",
       "  frozen smoothie spinach  olive oil  \n",
       "0             NaN     NaN        NaN  \n",
       "1             NaN     NaN        NaN  \n",
       "2             NaN     NaN        NaN  \n",
       "3             NaN     NaN        NaN  \n",
       "4             NaN     NaN        NaN  "
      ]
     },
     "execution_count": 30,
     "metadata": {},
     "output_type": "execute_result"
    }
   ],
   "source": [
    "store_data = pd.read_csv('./store_data.csv')\n",
    "store_data.head()"
   ]
  },
  {
   "cell_type": "markdown",
   "id": "c020ecb9",
   "metadata": {},
   "source": [
    "### 3a. For the 7500 records, implement the Association Rule with a minimum support of 0.0045, minimum confidence of 0.2, and minimum lift of 3.\n"
   ]
  },
  {
   "cell_type": "code",
   "execution_count": 71,
   "id": "b6969e8c",
   "metadata": {},
   "outputs": [],
   "source": [
    "from apyori import apriori\n",
    "import time, timeit\n",
    "records = []\n",
    "start_time = time.perf_counter()\n",
    "for i in range(0, 7500):\n",
    "    records.append([str(store_data.values[i,j]) for j in range(0, 20)])\n",
    "    association_rules = apriori(records, min_support=0.0045, min_confidence=0.2, min_lift=3) # min_length=2\n",
    "association_results = list(association_rules)\n",
    "end_time = time.perf_counter()"
   ]
  },
  {
   "cell_type": "markdown",
   "id": "6144b849",
   "metadata": {},
   "source": [
    "### 3b. Print the first 10 Rules along with each Support, Confidence and Lift values.\n"
   ]
  },
  {
   "cell_type": "code",
   "execution_count": 32,
   "id": "bbeda70c",
   "metadata": {
    "collapsed": true
   },
   "outputs": [
    {
     "name": "stdout",
     "output_type": "stream",
     "text": [
      "Rule: chicken -> light cream\n",
      "Support: 0.004533333333333334\n",
      "Confidence: 0.2905982905982906\n",
      "Lift: 4.843304843304844\n",
      "=====================================\n",
      "Rule: mushroom cream sauce -> escalope\n",
      "Support: 0.005733333333333333\n",
      "Confidence: 0.30069930069930073\n",
      "Lift: 3.7903273197390845\n",
      "=====================================\n",
      "Rule: pasta -> escalope\n",
      "Support: 0.005866666666666667\n",
      "Confidence: 0.37288135593220345\n",
      "Lift: 4.700185158809287\n",
      "=====================================\n",
      "Rule: ground beef -> herb & pepper\n",
      "Support: 0.016\n",
      "Confidence: 0.3234501347708895\n",
      "Lift: 3.2915549671393096\n",
      "=====================================\n",
      "Rule: ground beef -> tomato sauce\n",
      "Support: 0.005333333333333333\n",
      "Confidence: 0.37735849056603776\n",
      "Lift: 3.840147461662528\n",
      "=====================================\n",
      "Rule: whole wheat pasta -> olive oil\n",
      "Support: 0.008\n",
      "Confidence: 0.2714932126696833\n",
      "Lift: 4.130221288078346\n",
      "=====================================\n",
      "Rule: pasta -> shrimp\n",
      "Support: 0.005066666666666666\n",
      "Confidence: 0.3220338983050848\n",
      "Lift: 4.514493901473151\n",
      "=====================================\n",
      "Rule: chicken -> nan\n",
      "Support: 0.004533333333333334\n",
      "Confidence: 0.2905982905982906\n",
      "Lift: 4.843304843304844\n",
      "=====================================\n",
      "Rule: shrimp -> frozen vegetables\n",
      "Support: 0.005333333333333333\n",
      "Confidence: 0.23255813953488372\n",
      "Lift: 3.260160834601174\n",
      "=====================================\n",
      "Rule: cooking oil -> ground beef\n",
      "Support: 0.0048\n",
      "Confidence: 0.5714285714285714\n",
      "Lift: 3.281557646029315\n",
      "=====================================\n"
     ]
    }
   ],
   "source": [
    "for i in range(0, 10):\n",
    "    pair = association_results[i][0] \n",
    "    items = [x for x in pair]\n",
    "    print(\"Rule: \" + items[0] + \" -> \" + items[1])\n",
    "    print(\"Support: \" + str(association_results[i][1]))\n",
    "    print(\"Confidence: \" + str(association_results[i][2][0][2]))\n",
    "    print(\"Lift: \" + str(association_results[i][2][0][3]))\n",
    "    print(\"=====================================\")"
   ]
  },
  {
   "cell_type": "markdown",
   "id": "2c8ed8a3",
   "metadata": {},
   "source": [
    "### 3c. How long did it take to run the implementation for the 7500 items.\n"
   ]
  },
  {
   "cell_type": "code",
   "execution_count": 73,
   "id": "3a4fb911",
   "metadata": {},
   "outputs": [
    {
     "name": "stdout",
     "output_type": "stream",
     "text": [
      "Total Time Taken to run 7500 items:  5.08 minutes\n"
     ]
    }
   ],
   "source": [
    "print('Total Time Taken to run 7500 items: ', round((end_time - start_time)/60, 2), 'minutes')"
   ]
  },
  {
   "cell_type": "markdown",
   "id": "e5149232",
   "metadata": {},
   "source": [
    "### 3d. What are some other datasets for which this type of algorithm will be useful.\n"
   ]
  },
  {
   "cell_type": "markdown",
   "id": "00053fdd",
   "metadata": {},
   "source": [
    "### The Association rules algorithm can be used on any dataset related to Market Based Analysis or Network Analysis. It's used to find the correlations and co-occurrences between data sets. Any place where we can find patterns\n",
    "### I believe based on the association we can also use it to give recommendations, might give movie suggestions in netflix."
   ]
  },
  {
   "cell_type": "markdown",
   "id": "bcd22a59",
   "metadata": {},
   "source": [
    "## 4. Open Orange 3 either from the command line or from the Anaconda Navigator. Using the IRIS dataset again, create a scatter plot of the data.\n"
   ]
  },
  {
   "cell_type": "markdown",
   "id": "159dfb0c",
   "metadata": {},
   "source": [
    "### Please find the file named \"Homework_II_4.ows\" which contains 4a, 4b, 4c and 4d"
   ]
  },
  {
   "cell_type": "markdown",
   "id": "5522a3f1",
   "metadata": {},
   "source": [
    "## 5. Load the breast cancer dataset from Scikit-Learn.\n"
   ]
  },
  {
   "cell_type": "code",
   "execution_count": 34,
   "id": "fa6763e8",
   "metadata": {},
   "outputs": [],
   "source": [
    "cancer = datasets.load_breast_cancer()"
   ]
  },
  {
   "cell_type": "code",
   "execution_count": 35,
   "id": "f9bfeb00",
   "metadata": {},
   "outputs": [
    {
     "name": "stdout",
     "output_type": "stream",
     "text": [
      ".. _breast_cancer_dataset:\n",
      "\n",
      "Breast cancer wisconsin (diagnostic) dataset\n",
      "--------------------------------------------\n",
      "\n",
      "**Data Set Characteristics:**\n",
      "\n",
      "    :Number of Instances: 569\n",
      "\n",
      "    :Number of Attributes: 30 numeric, predictive attributes and the class\n",
      "\n",
      "    :Attribute Information:\n",
      "        - radius (mean of distances from center to points on the perimeter)\n",
      "        - texture (standard deviation of gray-scale values)\n",
      "        - perimeter\n",
      "        - area\n",
      "        - smoothness (local variation in radius lengths)\n",
      "        - compactness (perimeter^2 / area - 1.0)\n",
      "        - concavity (severity of concave portions of the contour)\n",
      "        - concave points (number of concave portions of the contour)\n",
      "        - symmetry\n",
      "        - fractal dimension (\"coastline approximation\" - 1)\n",
      "\n",
      "        The mean, standard error, and \"worst\" or largest (mean of the three\n",
      "        worst/largest values) of these features were computed for each image,\n",
      "        resulting in 30 features.  For instance, field 0 is Mean Radius, field\n",
      "        10 is Radius SE, field 20 is Worst Radius.\n",
      "\n",
      "        - class:\n",
      "                - WDBC-Malignant\n",
      "                - WDBC-Benign\n",
      "\n",
      "    :Summary Statistics:\n",
      "\n",
      "    ===================================== ====== ======\n",
      "                                           Min    Max\n",
      "    ===================================== ====== ======\n",
      "    radius (mean):                        6.981  28.11\n",
      "    texture (mean):                       9.71   39.28\n",
      "    perimeter (mean):                     43.79  188.5\n",
      "    area (mean):                          143.5  2501.0\n",
      "    smoothness (mean):                    0.053  0.163\n",
      "    compactness (mean):                   0.019  0.345\n",
      "    concavity (mean):                     0.0    0.427\n",
      "    concave points (mean):                0.0    0.201\n",
      "    symmetry (mean):                      0.106  0.304\n",
      "    fractal dimension (mean):             0.05   0.097\n",
      "    radius (standard error):              0.112  2.873\n",
      "    texture (standard error):             0.36   4.885\n",
      "    perimeter (standard error):           0.757  21.98\n",
      "    area (standard error):                6.802  542.2\n",
      "    smoothness (standard error):          0.002  0.031\n",
      "    compactness (standard error):         0.002  0.135\n",
      "    concavity (standard error):           0.0    0.396\n",
      "    concave points (standard error):      0.0    0.053\n",
      "    symmetry (standard error):            0.008  0.079\n",
      "    fractal dimension (standard error):   0.001  0.03\n",
      "    radius (worst):                       7.93   36.04\n",
      "    texture (worst):                      12.02  49.54\n",
      "    perimeter (worst):                    50.41  251.2\n",
      "    area (worst):                         185.2  4254.0\n",
      "    smoothness (worst):                   0.071  0.223\n",
      "    compactness (worst):                  0.027  1.058\n",
      "    concavity (worst):                    0.0    1.252\n",
      "    concave points (worst):               0.0    0.291\n",
      "    symmetry (worst):                     0.156  0.664\n",
      "    fractal dimension (worst):            0.055  0.208\n",
      "    ===================================== ====== ======\n",
      "\n",
      "    :Missing Attribute Values: None\n",
      "\n",
      "    :Class Distribution: 212 - Malignant, 357 - Benign\n",
      "\n",
      "    :Creator:  Dr. William H. Wolberg, W. Nick Street, Olvi L. Mangasarian\n",
      "\n",
      "    :Donor: Nick Street\n",
      "\n",
      "    :Date: November, 1995\n",
      "\n",
      "This is a copy of UCI ML Breast Cancer Wisconsin (Diagnostic) datasets.\n",
      "https://goo.gl/U2Uwz2\n",
      "\n",
      "Features are computed from a digitized image of a fine needle\n",
      "aspirate (FNA) of a breast mass.  They describe\n",
      "characteristics of the cell nuclei present in the image.\n",
      "\n",
      "Separating plane described above was obtained using\n",
      "Multisurface Method-Tree (MSM-T) [K. P. Bennett, \"Decision Tree\n",
      "Construction Via Linear Programming.\" Proceedings of the 4th\n",
      "Midwest Artificial Intelligence and Cognitive Science Society,\n",
      "pp. 97-101, 1992], a classification method which uses linear\n",
      "programming to construct a decision tree.  Relevant features\n",
      "were selected using an exhaustive search in the space of 1-4\n",
      "features and 1-3 separating planes.\n",
      "\n",
      "The actual linear program used to obtain the separating plane\n",
      "in the 3-dimensional space is that described in:\n",
      "[K. P. Bennett and O. L. Mangasarian: \"Robust Linear\n",
      "Programming Discrimination of Two Linearly Inseparable Sets\",\n",
      "Optimization Methods and Software 1, 1992, 23-34].\n",
      "\n",
      "This database is also available through the UW CS ftp server:\n",
      "\n",
      "ftp ftp.cs.wisc.edu\n",
      "cd math-prog/cpo-dataset/machine-learn/WDBC/\n",
      "\n",
      ".. topic:: References\n",
      "\n",
      "   - W.N. Street, W.H. Wolberg and O.L. Mangasarian. Nuclear feature extraction \n",
      "     for breast tumor diagnosis. IS&T/SPIE 1993 International Symposium on \n",
      "     Electronic Imaging: Science and Technology, volume 1905, pages 861-870,\n",
      "     San Jose, CA, 1993.\n",
      "   - O.L. Mangasarian, W.N. Street and W.H. Wolberg. Breast cancer diagnosis and \n",
      "     prognosis via linear programming. Operations Research, 43(4), pages 570-577, \n",
      "     July-August 1995.\n",
      "   - W.H. Wolberg, W.N. Street, and O.L. Mangasarian. Machine learning techniques\n",
      "     to diagnose breast cancer from fine-needle aspirates. Cancer Letters 77 (1994) \n",
      "     163-171.\n"
     ]
    }
   ],
   "source": [
    "print(cancer.DESCR)"
   ]
  },
  {
   "cell_type": "markdown",
   "id": "3b81c0d6",
   "metadata": {},
   "source": [
    "### 5a. What are the 13 features of this dataset?\n"
   ]
  },
  {
   "cell_type": "code",
   "execution_count": 36,
   "id": "6edbc6c1",
   "metadata": {
    "collapsed": true
   },
   "outputs": [
    {
     "data": {
      "text/html": [
       "<div>\n",
       "<style scoped>\n",
       "    .dataframe tbody tr th:only-of-type {\n",
       "        vertical-align: middle;\n",
       "    }\n",
       "\n",
       "    .dataframe tbody tr th {\n",
       "        vertical-align: top;\n",
       "    }\n",
       "\n",
       "    .dataframe thead th {\n",
       "        text-align: right;\n",
       "    }\n",
       "</style>\n",
       "<table border=\"1\" class=\"dataframe\">\n",
       "  <thead>\n",
       "    <tr style=\"text-align: right;\">\n",
       "      <th></th>\n",
       "      <th>Features</th>\n",
       "    </tr>\n",
       "  </thead>\n",
       "  <tbody>\n",
       "    <tr>\n",
       "      <th>1</th>\n",
       "      <td>mean radius</td>\n",
       "    </tr>\n",
       "    <tr>\n",
       "      <th>2</th>\n",
       "      <td>mean texture</td>\n",
       "    </tr>\n",
       "    <tr>\n",
       "      <th>3</th>\n",
       "      <td>mean perimeter</td>\n",
       "    </tr>\n",
       "    <tr>\n",
       "      <th>4</th>\n",
       "      <td>mean area</td>\n",
       "    </tr>\n",
       "    <tr>\n",
       "      <th>5</th>\n",
       "      <td>mean smoothness</td>\n",
       "    </tr>\n",
       "    <tr>\n",
       "      <th>6</th>\n",
       "      <td>mean compactness</td>\n",
       "    </tr>\n",
       "    <tr>\n",
       "      <th>7</th>\n",
       "      <td>mean concavity</td>\n",
       "    </tr>\n",
       "    <tr>\n",
       "      <th>8</th>\n",
       "      <td>mean concave points</td>\n",
       "    </tr>\n",
       "    <tr>\n",
       "      <th>9</th>\n",
       "      <td>mean symmetry</td>\n",
       "    </tr>\n",
       "    <tr>\n",
       "      <th>10</th>\n",
       "      <td>mean fractal dimension</td>\n",
       "    </tr>\n",
       "    <tr>\n",
       "      <th>11</th>\n",
       "      <td>radius error</td>\n",
       "    </tr>\n",
       "    <tr>\n",
       "      <th>12</th>\n",
       "      <td>texture error</td>\n",
       "    </tr>\n",
       "    <tr>\n",
       "      <th>13</th>\n",
       "      <td>perimeter error</td>\n",
       "    </tr>\n",
       "    <tr>\n",
       "      <th>14</th>\n",
       "      <td>area error</td>\n",
       "    </tr>\n",
       "    <tr>\n",
       "      <th>15</th>\n",
       "      <td>smoothness error</td>\n",
       "    </tr>\n",
       "    <tr>\n",
       "      <th>16</th>\n",
       "      <td>compactness error</td>\n",
       "    </tr>\n",
       "    <tr>\n",
       "      <th>17</th>\n",
       "      <td>concavity error</td>\n",
       "    </tr>\n",
       "    <tr>\n",
       "      <th>18</th>\n",
       "      <td>concave points error</td>\n",
       "    </tr>\n",
       "    <tr>\n",
       "      <th>19</th>\n",
       "      <td>symmetry error</td>\n",
       "    </tr>\n",
       "    <tr>\n",
       "      <th>20</th>\n",
       "      <td>fractal dimension error</td>\n",
       "    </tr>\n",
       "    <tr>\n",
       "      <th>21</th>\n",
       "      <td>worst radius</td>\n",
       "    </tr>\n",
       "    <tr>\n",
       "      <th>22</th>\n",
       "      <td>worst texture</td>\n",
       "    </tr>\n",
       "    <tr>\n",
       "      <th>23</th>\n",
       "      <td>worst perimeter</td>\n",
       "    </tr>\n",
       "    <tr>\n",
       "      <th>24</th>\n",
       "      <td>worst area</td>\n",
       "    </tr>\n",
       "    <tr>\n",
       "      <th>25</th>\n",
       "      <td>worst smoothness</td>\n",
       "    </tr>\n",
       "    <tr>\n",
       "      <th>26</th>\n",
       "      <td>worst compactness</td>\n",
       "    </tr>\n",
       "    <tr>\n",
       "      <th>27</th>\n",
       "      <td>worst concavity</td>\n",
       "    </tr>\n",
       "    <tr>\n",
       "      <th>28</th>\n",
       "      <td>worst concave points</td>\n",
       "    </tr>\n",
       "    <tr>\n",
       "      <th>29</th>\n",
       "      <td>worst symmetry</td>\n",
       "    </tr>\n",
       "    <tr>\n",
       "      <th>30</th>\n",
       "      <td>worst fractal dimension</td>\n",
       "    </tr>\n",
       "  </tbody>\n",
       "</table>\n",
       "</div>"
      ],
      "text/plain": [
       "                   Features\n",
       "1               mean radius\n",
       "2              mean texture\n",
       "3            mean perimeter\n",
       "4                 mean area\n",
       "5           mean smoothness\n",
       "6          mean compactness\n",
       "7            mean concavity\n",
       "8       mean concave points\n",
       "9             mean symmetry\n",
       "10   mean fractal dimension\n",
       "11             radius error\n",
       "12            texture error\n",
       "13          perimeter error\n",
       "14               area error\n",
       "15         smoothness error\n",
       "16        compactness error\n",
       "17          concavity error\n",
       "18     concave points error\n",
       "19           symmetry error\n",
       "20  fractal dimension error\n",
       "21             worst radius\n",
       "22            worst texture\n",
       "23          worst perimeter\n",
       "24               worst area\n",
       "25         worst smoothness\n",
       "26        worst compactness\n",
       "27          worst concavity\n",
       "28     worst concave points\n",
       "29           worst symmetry\n",
       "30  worst fractal dimension"
      ]
     },
     "execution_count": 36,
     "metadata": {},
     "output_type": "execute_result"
    }
   ],
   "source": [
    "df = pd.DataFrame(cancer.feature_names, columns=['Features'])\n",
    "df.index+=1\n",
    "df"
   ]
  },
  {
   "cell_type": "code",
   "execution_count": 37,
   "id": "29f19c81",
   "metadata": {},
   "outputs": [
    {
     "name": "stdout",
     "output_type": "stream",
     "text": [
      "The first 13 Features:\n",
      "\n",
      " ['mean radius' 'mean texture' 'mean perimeter' 'mean area'\n",
      " 'mean smoothness' 'mean compactness' 'mean concavity'\n",
      " 'mean concave points' 'mean symmetry' 'mean fractal dimension'\n",
      " 'radius error' 'texture error' 'perimeter error']\n"
     ]
    }
   ],
   "source": [
    "print(\"The first 13 Features:\\n\\n\", cancer['feature_names'][:13])"
   ]
  },
  {
   "cell_type": "markdown",
   "id": "ea2877f1",
   "metadata": {},
   "source": [
    "### 5b. What are the labels of the data?\n"
   ]
  },
  {
   "cell_type": "code",
   "execution_count": 38,
   "id": "af8e2e24",
   "metadata": {},
   "outputs": [
    {
     "name": "stdout",
     "output_type": "stream",
     "text": [
      "Labels:\n",
      "\n",
      " ['malignant' 'benign']\n"
     ]
    }
   ],
   "source": [
    "print(\"Labels:\\n\\n\", cancer['target_names'])"
   ]
  },
  {
   "cell_type": "markdown",
   "id": "7bf7301e",
   "metadata": {},
   "source": [
    "### 5c. Split the data into 70% training and 30% testing.\n"
   ]
  },
  {
   "cell_type": "code",
   "execution_count": 39,
   "id": "5c057221",
   "metadata": {},
   "outputs": [],
   "source": [
    "from sklearn.model_selection import train_test_split\n",
    "\n",
    "X_train, X_test, y_train, y_test = train_test_split(cancer.data, cancer.target, test_size=0.3, train_size=0.7, random_state=59)"
   ]
  },
  {
   "cell_type": "code",
   "execution_count": 40,
   "id": "917f0ed8",
   "metadata": {},
   "outputs": [
    {
     "data": {
      "text/plain": [
       "398"
      ]
     },
     "execution_count": 40,
     "metadata": {},
     "output_type": "execute_result"
    }
   ],
   "source": [
    "len(X_train)"
   ]
  },
  {
   "cell_type": "markdown",
   "id": "35b5be69",
   "metadata": {},
   "source": [
    "### 5d. Create a SVM classifier and train the model.\n"
   ]
  },
  {
   "cell_type": "code",
   "execution_count": 41,
   "id": "c5e4ce53",
   "metadata": {},
   "outputs": [
    {
     "data": {
      "text/plain": [
       "SVC(kernel='linear')"
      ]
     },
     "execution_count": 41,
     "metadata": {},
     "output_type": "execute_result"
    }
   ],
   "source": [
    "from sklearn import svm\n",
    "clf = svm.SVC(kernel='linear')\n",
    "clf.fit(X_train, y_train)"
   ]
  },
  {
   "cell_type": "markdown",
   "id": "f0134638",
   "metadata": {},
   "source": [
    "### 5e. Predict the output using the testing data.\n"
   ]
  },
  {
   "cell_type": "code",
   "execution_count": 42,
   "id": "0f301b9a",
   "metadata": {},
   "outputs": [],
   "source": [
    "y_pred = clf.predict(X_test)"
   ]
  },
  {
   "cell_type": "markdown",
   "id": "9995628f",
   "metadata": {},
   "source": [
    "### 5f. What is the accuracy, precision, and recall scores?\n"
   ]
  },
  {
   "cell_type": "code",
   "execution_count": 43,
   "id": "7faa2845",
   "metadata": {},
   "outputs": [
    {
     "name": "stdout",
     "output_type": "stream",
     "text": [
      "Accuracy:  0.94\n",
      "Precision:  0.93\n",
      "Recall:  0.97\n"
     ]
    }
   ],
   "source": [
    "from sklearn import metrics\n",
    "print(\"Accuracy: \", round(metrics.accuracy_score(y_test, y_pred), 2))\n",
    "print(\"Precision: \", round(metrics.precision_score(y_test, y_pred), 2))\n",
    "print(\"Recall: \", round(metrics.recall_score(y_test, y_pred), 2))"
   ]
  },
  {
   "cell_type": "markdown",
   "id": "fd21e6b0",
   "metadata": {},
   "source": [
    "### 5g. Load this data into Orange and visualize the dataset and find informative projections.\n",
    "\n"
   ]
  },
  {
   "cell_type": "markdown",
   "id": "4aa14730",
   "metadata": {},
   "source": [
    "### Please find the file named \"Homework_II_5g.ows\"\n",
    "\n",
    "### I've also tried exporting the same train and test data & used it in Orange, in which we save the SVM model and load it again, I've also uploaded this file as well \"Homework_II_5g_train_test.ows\""
   ]
  },
  {
   "cell_type": "code",
   "execution_count": 44,
   "id": "84bd7ef2",
   "metadata": {},
   "outputs": [],
   "source": [
    "df = pd.DataFrame(X_train, columns=cancer.feature_names)\n",
    "\n",
    "series = pd.Series(y_train)\n",
    "\n",
    "for idx,i in enumerate(series):\n",
    "    if i == 0:\n",
    "        series[idx] = 'malignant'\n",
    "    elif i == 1:\n",
    "        series[idx] = 'benign'\n",
    "        \n",
    "df['type'] = series\n",
    "df.to_csv('train.csv', index=False)"
   ]
  },
  {
   "cell_type": "code",
   "execution_count": 45,
   "id": "f851e15d",
   "metadata": {},
   "outputs": [],
   "source": [
    "df = pd.DataFrame(X_test, columns=cancer.feature_names)\n",
    "\n",
    "series = pd.Series(y_test)\n",
    "\n",
    "for idx,i in enumerate(series):\n",
    "    if i == 0:\n",
    "        series[idx] = 'malignant'\n",
    "    elif i == 1:\n",
    "        series[idx] = 'benign'\n",
    "        \n",
    "df['type'] = series\n",
    "df.to_csv('test.csv', index=False)"
   ]
  },
  {
   "cell_type": "markdown",
   "id": "a416bea2",
   "metadata": {},
   "source": [
    "## 6. Using the IRIS dataset again, use the decision tree classifier to fit the data and plot the tree.\n"
   ]
  },
  {
   "cell_type": "code",
   "execution_count": 132,
   "id": "b5dd8bcf",
   "metadata": {},
   "outputs": [],
   "source": [
    "x = iris.data\n",
    "y = iris.target\n",
    "\n",
    "from sklearn.model_selection import train_test_split\n",
    "\n",
    "X_train, X_test, y_train, y_test = train_test_split(x,y,test_size=0.5, train_size=0.5, random_state=109)"
   ]
  },
  {
   "cell_type": "code",
   "execution_count": 146,
   "id": "820f9d41",
   "metadata": {
    "collapsed": true
   },
   "outputs": [
    {
     "data": {
      "text/plain": [
       "[Text(0.4, 0.875, 'X[3] <= 0.8\\ngini = 0.66\\nsamples = 75\\nvalue = [30, 22, 23]'),\n",
       " Text(0.2, 0.625, 'gini = 0.0\\nsamples = 30\\nvalue = [30, 0, 0]'),\n",
       " Text(0.6, 0.625, 'X[3] <= 1.75\\ngini = 0.5\\nsamples = 45\\nvalue = [0, 22, 23]'),\n",
       " Text(0.4, 0.375, 'X[2] <= 5.05\\ngini = 0.153\\nsamples = 24\\nvalue = [0, 22, 2]'),\n",
       " Text(0.2, 0.125, 'gini = 0.0\\nsamples = 22\\nvalue = [0, 22, 0]'),\n",
       " Text(0.6, 0.125, 'gini = 0.0\\nsamples = 2\\nvalue = [0, 0, 2]'),\n",
       " Text(0.8, 0.375, 'gini = 0.0\\nsamples = 21\\nvalue = [0, 0, 21]')]"
      ]
     },
     "execution_count": 146,
     "metadata": {},
     "output_type": "execute_result"
    },
    {
     "data": {
      "image/png": "[encoded data removed]",
      "text/plain": [
       "<Figure size 432x288 with 1 Axes>"
      ]
     },
     "metadata": {
      "needs_background": "light"
     },
     "output_type": "display_data"
    }
   ],
   "source": [
    "from sklearn import tree\n",
    "classifier=tree.DecisionTreeClassifier()\n",
    "clf = classifier.fit(X_train, y_train)\n",
    "tree.plot_tree(clf, filled=True)"
   ]
  },
  {
   "cell_type": "markdown",
   "id": "d69e8e7e",
   "metadata": {},
   "source": [
    "### 6a. Display the decision surface of the tree for the first two features.\n"
   ]
  },
  {
   "cell_type": "code",
   "execution_count": 87,
   "id": "d03b0433",
   "metadata": {},
   "outputs": [],
   "source": [
    "from sklearn.datasets import load_iris\n",
    "\n",
    "iris = load_iris()"
   ]
  },
  {
   "cell_type": "code",
   "execution_count": 167,
   "id": "53976598",
   "metadata": {},
   "outputs": [
    {
     "data": {
      "image/png": "[encoded data removed]",
      "text/plain": [
       "<Figure size 432x288 with 1 Axes>"
      ]
     },
     "metadata": {
      "needs_background": "light"
     },
     "output_type": "display_data"
    }
   ],
   "source": [
    "# Parameters\n",
    "n_classes = 3\n",
    "plot_colors = \"ryb\"\n",
    "plot_step = 0.02\n",
    "\n",
    "for pairidx, pair in enumerate([[0, 1], [0, 2], [0, 3], [1, 2], [1, 3], [2, 3]]):\n",
    "    # We only take the two corresponding features\n",
    "\n",
    "    X = iris.data[:, 0:2]\n",
    "    y = iris.target\n",
    "\n",
    "    # Train\n",
    "    clf = tree.DecisionTreeClassifier().fit(X, y)\n",
    "\n",
    "    # Plot the decision boundary\n",
    "    plt.subplot(2, 3, pairidx+1)\n",
    "\n",
    "    x_min, x_max = X[:, 0].min() - 1, X[:, 0].max() + 1\n",
    "    y_min, y_max = X[:, 1].min() - 1, X[:, 1].max() + 1\n",
    "    xx, yy = np.meshgrid(\n",
    "        np.arange(x_min, x_max, plot_step), np.arange(y_min, y_max, plot_step)\n",
    "    )\n",
    "    plt.tight_layout(h_pad=0.5, w_pad=0.5, pad=2.5)\n",
    "\n",
    "    Z = clf.predict(np.c_[xx.ravel(), yy.ravel()])\n",
    "    Z = Z.reshape(xx.shape)\n",
    "    cs = plt.contourf(xx, yy, Z, cmap=plt.cm.RdYlBu)\n",
    "\n",
    "    plt.xlabel(iris.feature_names[pair[0]])\n",
    "    plt.ylabel(iris.feature_names[pair[1]])\n",
    "\n",
    "    # Plot the training points\n",
    "    for i, color in zip(range(n_classes), plot_colors):\n",
    "        idx = np.where(y == i)\n",
    "        plt.scatter(\n",
    "            X[idx, 0],\n",
    "            X[idx, 1],\n",
    "            c=color,\n",
    "            label=iris.target_names[i],\n",
    "            cmap=plt.cm.RdYlBu,\n",
    "            edgecolor=\"black\",\n",
    "            s=15,\n",
    "        )\n",
    "    break\n",
    "plt.suptitle(\"Decision surface of first two features\")\n",
    "plt.legend(borderpad=0, handletextpad=0)\n",
    "_ = plt.axis(\"tight\")"
   ]
  },
  {
   "cell_type": "markdown",
   "id": "61f93300",
   "metadata": {},
   "source": [
    "### 6b. Is there a difference in the results from using SVM? What are the advantages and disadvantages when compared to SVM for this dataset?\n",
    "\n"
   ]
  },
  {
   "cell_type": "code",
   "execution_count": 147,
   "id": "9ffe85cb",
   "metadata": {},
   "outputs": [
    {
     "name": "stdout",
     "output_type": "stream",
     "text": [
      "Accuracy for SVM Model: 0.9466666666666667\n"
     ]
    }
   ],
   "source": [
    "from sklearn import svm\n",
    "from sklearn import metrics\n",
    "\n",
    "clf = svm.SVC(kernel='linear') # Linear Kernel\n",
    "clf.fit(X_train, y_train)\n",
    "y_pred = clf.predict(X_test)\n",
    "\n",
    "print(\"Accuracy for SVM Model:\",metrics.accuracy_score(y_test, y_pred))"
   ]
  },
  {
   "cell_type": "code",
   "execution_count": 148,
   "id": "ece46a59",
   "metadata": {},
   "outputs": [
    {
     "name": "stdout",
     "output_type": "stream",
     "text": [
      "Accuracy for Decision-Tree-Classifier Model: 0.9466666666666667\n"
     ]
    }
   ],
   "source": [
    "y_pred_DCT = clf_DCT.predict(X_test)\n",
    "print(\"Accuracy for Decision-Tree-Classifier Model:\",metrics.accuracy_score(y_test, y_pred_DCT))"
   ]
  },
  {
   "cell_type": "markdown",
   "id": "817e63bb",
   "metadata": {},
   "source": [
    "#### Don't know why I have the same accuracy here for both the models.\n",
    "#### But usually SVM uses kernel trick to solve non-linear problems whereas decision trees derive hyper-rectangles in input space to solve the problem and also Decision trees are better for categorical data and it deals colinearity better than SVM.\n"
   ]
  },
  {
   "cell_type": "markdown",
   "id": "4abfe37d",
   "metadata": {},
   "source": [
    "### 6c. Try displaying the decision surface using different features. Is there a difference? Is there better separation?\n"
   ]
  },
  {
   "cell_type": "code",
   "execution_count": 169,
   "id": "4b9ea5d6",
   "metadata": {},
   "outputs": [
    {
     "data": {
      "image/png": "[encoded data removed]",
      "text/plain": [
       "<Figure size 432x288 with 1 Axes>"
      ]
     },
     "metadata": {
      "needs_background": "light"
     },
     "output_type": "display_data"
    }
   ],
   "source": [
    "# Parameters\n",
    "n_classes = 3\n",
    "plot_colors = \"ryb\"\n",
    "plot_step = 0.02\n",
    "\n",
    "for pairidx, pair in enumerate([[0, 1], [0, 2], [0, 3], [1, 2], [1, 3], [2, 3]]):\n",
    "    # We only take the two corresponding features\n",
    "\n",
    "    X = iris.data[:, 2:4]\n",
    "    y = iris.target\n",
    "\n",
    "    # Train\n",
    "    clf = tree.DecisionTreeClassifier().fit(X, y)\n",
    "\n",
    "    # Plot the decision boundary\n",
    "    plt.subplot(2, 3, pairidx+1)\n",
    "\n",
    "    x_min, x_max = X[:, 0].min() - 1, X[:, 0].max() + 1\n",
    "    y_min, y_max = X[:, 1].min() - 1, X[:, 1].max() + 1\n",
    "    xx, yy = np.meshgrid(\n",
    "        np.arange(x_min, x_max, plot_step), np.arange(y_min, y_max, plot_step)\n",
    "    )\n",
    "    plt.tight_layout(h_pad=0.5, w_pad=0.5, pad=2.5)\n",
    "\n",
    "    Z = clf.predict(np.c_[xx.ravel(), yy.ravel()])\n",
    "    Z = Z.reshape(xx.shape)\n",
    "    cs = plt.contourf(xx, yy, Z, cmap=plt.cm.RdYlBu)\n",
    "\n",
    "    plt.xlabel(iris.feature_names[2])\n",
    "    plt.ylabel(iris.feature_names[3])\n",
    "\n",
    "    # Plot the training points\n",
    "    for i, color in zip(range(n_classes), plot_colors):\n",
    "        idx = np.where(y == i)\n",
    "        plt.scatter(\n",
    "            X[idx, 0],\n",
    "            X[idx, 1],\n",
    "            c=color,\n",
    "            label=iris.target_names[i],\n",
    "            cmap=plt.cm.RdYlBu,\n",
    "            edgecolor=\"black\",\n",
    "            s=15,\n",
    "        )\n",
    "    break\n",
    "plt.suptitle(\"Decision surface of other two features\")\n",
    "plt.legend(borderpad=0, handletextpad=0)\n",
    "_ = plt.axis(\"tight\")"
   ]
  },
  {
   "cell_type": "markdown",
   "id": "0ef22512",
   "metadata": {},
   "source": [
    "### 6d. Use Orange to do the same.\n"
   ]
  },
  {
   "cell_type": "markdown",
   "id": "56752284",
   "metadata": {},
   "source": [
    "#### Please find the orange file with the name \"Homework_II_6d.ows\""
   ]
  },
  {
   "cell_type": "markdown",
   "id": "6ec388d1",
   "metadata": {},
   "source": [
    "## 7. In Orange, use the Breast Cancer dataset with a Random Forest model.\n"
   ]
  },
  {
   "cell_type": "markdown",
   "id": "eb019782",
   "metadata": {},
   "source": [
    "#### Please find the orange file with the name \"Homework_II_7.ows\""
   ]
  },
  {
   "cell_type": "markdown",
   "id": "88ba4b01",
   "metadata": {},
   "source": [
    "### 7a. Visualize the results using the Pythagorean Forest.\n"
   ]
  },
  {
   "cell_type": "markdown",
   "id": "70b5326a",
   "metadata": {},
   "source": [
    "#### Please double click on Pythagorean Forest in the orange to view the results"
   ]
  },
  {
   "cell_type": "markdown",
   "id": "1c241af8",
   "metadata": {},
   "source": [
    "### 7b. What pre-processing did you do to reduce the data?\n"
   ]
  },
  {
   "cell_type": "markdown",
   "id": "b3baf9c4",
   "metadata": {},
   "source": [
    "#### I've used continuize discrete variables as the pre-processing technique"
   ]
  },
  {
   "cell_type": "markdown",
   "id": "74aa3047",
   "metadata": {},
   "source": [
    "### 7c. What are the features that produce the best results? What can you use to make this simpler?\n"
   ]
  },
  {
   "cell_type": "markdown",
   "id": "6ed43be6",
   "metadata": {},
   "source": [
    "#### We can use dimensionality reduction like PCA to make this simpler, Clump thickness  vs Unif_Cell_Shape produced best results comparitively"
   ]
  },
  {
   "cell_type": "markdown",
   "id": "5a4f6959",
   "metadata": {},
   "source": [
    "### 7d. How do you interpret the results?\n"
   ]
  },
  {
   "cell_type": "markdown",
   "id": "99ec7599",
   "metadata": {},
   "source": [
    "#### By checking how better the bifurcation between the classes malignant & benign is done"
   ]
  }
 ],
 "metadata": {
  "kernelspec": {
   "display_name": "Python 3 (ipykernel)",
   "language": "python",
   "name": "python3"
  },
  "language_info": {
   "codemirror_mode": {
    "name": "ipython",
    "version": 3
   },
   "file_extension": ".py",
   "mimetype": "text/x-python",
   "name": "python",
   "nbconvert_exporter": "python",
   "pygments_lexer": "ipython3",
   "version": "3.8.12"
  }
 },
 "nbformat": 4,
 "nbformat_minor": 5
}
